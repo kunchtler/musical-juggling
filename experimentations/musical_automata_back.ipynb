{
 "cells": [
  {
   "cell_type": "code",
   "execution_count": 6,
   "id": "6838c327-e72b-4af4-8f34-a6142bdd49e8",
   "metadata": {},
   "outputs": [],
   "source": [
    "%load_ext autoreload\n",
    "%autoreload 2"
   ]
  },
  {
   "cell_type": "code",
   "execution_count": 7,
   "id": "57e7e496-b136-4675-9d65-3b289da0b913",
   "metadata": {},
   "outputs": [],
   "source": [
    "import musicaljuggling.automata.musical_siteswap2 as ms\n",
    "import networkx as nx"
   ]
  },
  {
   "cell_type": "code",
   "execution_count": 44,
   "id": "f8926ed7-c336-4c76-86b0-b1095173fb6c",
   "metadata": {},
   "outputs": [],
   "source": [
    "au_clair_de_la_lune = [\"C\", \"C\", \"C\", \"D\", \"E\", \"\", \"D\", \"\", \"C\", \"E\", \"D\", \"D\", \"C\"]\n",
    "music = [\"C\", \"D\", \"D\", \"D\", \"C\"]\n",
    "\n",
    "test = ms.MusicalAutomaton(au_clair_de_la_lune, 5, autobuild=False)\n",
    "aut = test.automaton"
   ]
  },
  {
   "cell_type": "code",
   "execution_count": 45,
   "id": "39c0b2f2-3c66-492c-ac7e-216694d95d63",
   "metadata": {},
   "outputs": [
    {
     "name": "stdout",
     "output_type": "stream",
     "text": [
      "DE<| X | CXXXX | t=12\n",
      "D<| E | CXXXX | t=12\n",
      "E<| D | CXXXX | t=12\n",
      "X<| DE | CXXXX | t=12\n"
     ]
    }
   ],
   "source": [
    "test.build_final_states()\n",
    "for state in test.final_states:\n",
    "    print(state)"
   ]
  },
  {
   "cell_type": "code",
   "execution_count": 46,
   "id": "f9234509-95bd-48c0-a6bc-4bdb8fa9d0ee",
   "metadata": {
    "scrolled": true
   },
   "outputs": [
    {
     "name": "stdout",
     "output_type": "stream",
     "text": [
      "Nodes :\n",
      "DE<| X | CXXXX | t=12\n",
      "D<| E | CXXXX | t=12\n",
      "X<| DE | CXXXX | t=12\n",
      "E<| D | CXXXX | t=12\n",
      "X |>E | DCXXX | t=11\n",
      "X |>EC | DXXXX | t=11\n",
      "E |>X | DCXXX | t=11\n",
      "E |>C | DXXXX | t=11\n",
      "X<| EC | DXXXX | t=10\n",
      "X<| E | DXCXX | t=10\n",
      "E<| X | DXCXX | t=10\n",
      "E<| C | DXXXX | t=10\n",
      "X |>X | EDXCX | t=9\n",
      "X |>D | EXXCX | t=9\n",
      "X |>C | EDXXX | t=9\n",
      "X |>CD | EXXXX | t=9\n",
      "X<| D | CEXXX | t=8\n",
      "X<| X | CEDXX | t=8\n",
      "X |>D | XCEXX | t=7\n",
      "X |>DC | XXEXX | t=7\n",
      "X |>DE | XCXXX | t=7\n",
      "X |>X | XCEDX | t=7\n",
      "X |>C | XXEDX | t=7\n",
      "X |>E | XCXDX | t=7\n",
      "X<| E | DXCXX | t=6\n",
      "X<| X | DXCEX | t=6\n",
      "X<| C | DXXEX | t=6\n",
      "X |>E | XDXCX | t=5\n",
      "X |>ED | XXXCX | t=5\n",
      "X |>EC | XDXXX | t=5\n",
      "X |>C | XDXXE | t=5\n",
      "X |>CD | XXXXE | t=5\n",
      "X |>CE | XDXXX | t=5\n",
      "X |>X | XDXCE | t=5\n",
      "X |>D | XXXCE | t=5\n",
      "X<| C | EXDXX | t=4\n",
      "X<| D | EXXXC | t=4\n",
      "X<| CD | EXXXX | t=4\n",
      "X<| X | EXDXC | t=4\n",
      "X |>C | DEXXX | t=3\n",
      "X |>CE | DXXXX | t=3\n",
      "\n",
      "Edges :\n",
      "X |>E | DCXXX | t=11\n",
      "X<| DE | CXXXX | t=12\n",
      "---\n",
      "X |>EC | DXXXX | t=11\n",
      "X<| DE | CXXXX | t=12\n",
      "---\n",
      "E |>X | DCXXX | t=11\n",
      "E<| D | CXXXX | t=12\n",
      "---\n",
      "E |>C | DXXXX | t=11\n",
      "E<| D | CXXXX | t=12\n",
      "---\n",
      "X<| EC | DXXXX | t=10\n",
      "X |>EC | DXXXX | t=11\n",
      "---\n",
      "X<| E | DXCXX | t=10\n",
      "X |>E | DCXXX | t=11\n",
      "---\n",
      "E<| X | DXCXX | t=10\n",
      "E |>X | DCXXX | t=11\n",
      "---\n",
      "E<| C | DXXXX | t=10\n",
      "E |>C | DXXXX | t=11\n",
      "---\n",
      "X |>X | EDXCX | t=9\n",
      "X<| E | DXCXX | t=10\n",
      "---\n",
      "X |>D | EXXCX | t=9\n",
      "X<| E | DXCXX | t=10\n",
      "---\n",
      "X |>C | EDXXX | t=9\n",
      "X<| E | DXCXX | t=10\n",
      "---\n",
      "X |>C | EDXXX | t=9\n",
      "X<| EC | DXXXX | t=10\n",
      "---\n",
      "X |>CD | EXXXX | t=9\n",
      "X<| EC | DXXXX | t=10\n",
      "---\n",
      "X<| D | CEXXX | t=8\n",
      "X |>D | EXXCX | t=9\n",
      "---\n",
      "X<| X | CEDXX | t=8\n",
      "X |>X | EDXCX | t=9\n",
      "---\n",
      "X |>D | XCEXX | t=7\n",
      "X<| D | CEXXX | t=8\n",
      "---\n",
      "X |>D | XCEXX | t=7\n",
      "X<| X | CEDXX | t=8\n",
      "---\n",
      "X |>DC | XXEXX | t=7\n",
      "X<| D | CEXXX | t=8\n",
      "---\n",
      "X |>DE | XCXXX | t=7\n",
      "X<| D | CEXXX | t=8\n",
      "---\n",
      "X |>X | XCEDX | t=7\n",
      "X<| X | CEDXX | t=8\n",
      "---\n",
      "X |>C | XXEDX | t=7\n",
      "X<| X | CEDXX | t=8\n",
      "---\n",
      "X |>E | XCXDX | t=7\n",
      "X<| X | CEDXX | t=8\n",
      "---\n",
      "X<| E | DXCXX | t=6\n",
      "X |>E | XCXDX | t=7\n",
      "---\n",
      "X<| X | DXCEX | t=6\n",
      "X |>X | XCEDX | t=7\n",
      "---\n",
      "X<| C | DXXEX | t=6\n",
      "X |>C | XXEDX | t=7\n",
      "---\n",
      "X |>E | XDXCX | t=5\n",
      "X<| E | DXCXX | t=6\n",
      "---\n",
      "X |>E | XDXCX | t=5\n",
      "X<| X | DXCEX | t=6\n",
      "---\n",
      "X |>ED | XXXCX | t=5\n",
      "X<| E | DXCXX | t=6\n",
      "---\n",
      "X |>EC | XDXXX | t=5\n",
      "X<| E | DXCXX | t=6\n",
      "---\n",
      "X |>C | XDXXE | t=5\n",
      "X<| C | DXXEX | t=6\n",
      "---\n",
      "X |>C | XDXXE | t=5\n",
      "X<| X | DXCEX | t=6\n",
      "---\n",
      "X |>CD | XXXXE | t=5\n",
      "X<| C | DXXEX | t=6\n",
      "---\n",
      "X |>CE | XDXXX | t=5\n",
      "X<| C | DXXEX | t=6\n",
      "---\n",
      "X |>X | XDXCE | t=5\n",
      "X<| X | DXCEX | t=6\n",
      "---\n",
      "X |>D | XXXCE | t=5\n",
      "X<| X | DXCEX | t=6\n",
      "---\n",
      "X<| C | EXDXX | t=4\n",
      "X |>C | XDXXE | t=5\n",
      "---\n",
      "X<| D | EXXXC | t=4\n",
      "X |>D | XXXCE | t=5\n",
      "---\n",
      "X<| CD | EXXXX | t=4\n",
      "X |>CD | XXXXE | t=5\n",
      "---\n",
      "X<| X | EXDXC | t=4\n",
      "X |>X | XDXCE | t=5\n",
      "---\n",
      "X |>C | DEXXX | t=3\n",
      "X<| D | EXXXC | t=4\n",
      "---\n",
      "X |>C | DEXXX | t=3\n",
      "X<| C | EXDXX | t=4\n",
      "---\n",
      "X |>C | DEXXX | t=3\n",
      "X<| CD | EXXXX | t=4\n",
      "---\n",
      "X |>CE | DXXXX | t=3\n",
      "X<| CD | EXXXX | t=4\n",
      "---\n"
     ]
    }
   ],
   "source": [
    "test.build_back_transitions()\n",
    "print(\"Nodes :\")\n",
    "for node in aut.nodes:\n",
    "    print(node)\n",
    "print(\"\\nEdges :\")\n",
    "for edge in aut.edges:\n",
    "    print(edge[0])\n",
    "    print(edge[1])\n",
    "    print(\"---\")"
   ]
  },
  {
   "cell_type": "code",
   "execution_count": 47,
   "id": "0df7eeb0-3ecd-496e-ae65-327ff18bfbbd",
   "metadata": {},
   "outputs": [],
   "source": [
    "test.draw(path=\"test.svg\", notebook=False)"
   ]
  },
  {
   "cell_type": "code",
   "execution_count": 48,
   "id": "d3a7f58b-1d65-4018-a246-ef17e58c34d4",
   "metadata": {},
   "outputs": [],
   "source": [
    "for node in test.initial_states:\n",
    "    print(node)"
   ]
  },
  {
   "cell_type": "code",
   "execution_count": 49,
   "id": "697bf494-fa55-42db-8eca-8038bd8f40be",
   "metadata": {},
   "outputs": [
    {
     "name": "stdout",
     "output_type": "stream",
     "text": [
      "Nodes :\n",
      "\n",
      "Edges :\n"
     ]
    }
   ],
   "source": [
    "test.elagate()\n",
    "print(\"Nodes :\")\n",
    "for node in aut.nodes:\n",
    "    print(node)\n",
    "print(\"\\nEdges :\")\n",
    "for edge in aut.edges:\n",
    "    print(edge[0])\n",
    "    print(edge[1])\n",
    "    print(\"---\")"
   ]
  },
  {
   "cell_type": "code",
   "execution_count": 50,
   "id": "9b92e528-4c49-4867-bb30-b16c0f600271",
   "metadata": {},
   "outputs": [],
   "source": [
    "test.draw(path=\"test.svg\", notebook=False)"
   ]
  },
  {
   "cell_type": "code",
   "execution_count": null,
   "id": "66a4385c-565a-48a0-9237-9a8637ce4ce3",
   "metadata": {},
   "outputs": [],
   "source": []
  }
 ],
 "metadata": {
  "kernelspec": {
   "display_name": "Python 3 (ipykernel)",
   "language": "python",
   "name": "python3"
  },
  "language_info": {
   "codemirror_mode": {
    "name": "ipython",
    "version": 3
   },
   "file_extension": ".py",
   "mimetype": "text/x-python",
   "name": "python",
   "nbconvert_exporter": "python",
   "pygments_lexer": "ipython3",
   "version": "3.12.1"
  }
 },
 "nbformat": 4,
 "nbformat_minor": 5
}
