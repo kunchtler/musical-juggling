{
 "cells": [
  {
   "cell_type": "code",
   "execution_count": 1,
   "id": "6838c327-e72b-4af4-8f34-a6142bdd49e8",
   "metadata": {},
   "outputs": [],
   "source": [
    "%load_ext autoreload\n",
    "%autoreload 2"
   ]
  },
  {
   "cell_type": "code",
   "execution_count": 2,
   "id": "57e7e496-b136-4675-9d65-3b289da0b913",
   "metadata": {},
   "outputs": [],
   "source": [
    "import musicaljuggling.automata.musical_siteswap2 as ms\n",
    "import networkx as nx"
   ]
  },
  {
   "cell_type": "code",
   "execution_count": 15,
   "id": "f8926ed7-c336-4c76-86b0-b1095173fb6c",
   "metadata": {},
   "outputs": [],
   "source": [
    "au_clair_de_la_lune = [\"C\", \"C\", \"C\", \"D\", \"E\", \"\", \"D\", \"\", \"C\", \"E\", \"D\", \"D\", \"C\"]\n",
    "music = [\"C\", \"D\", \"D\", \"D\", \"C\"]\n",
    "\n",
    "test = ms.MusicalAutomaton(au_clair_de_la_lune, 6, autobuild=False)\n",
    "aut = test.automaton"
   ]
  },
  {
   "cell_type": "code",
   "execution_count": 16,
   "id": "39c0b2f2-3c66-492c-ac7e-216694d95d63",
   "metadata": {},
   "outputs": [
    {
     "name": "stdout",
     "output_type": "stream",
     "text": [
      "ED<| X | CXXXXX | t=12\n",
      "E<| D | CXXXXX | t=12\n",
      "D<| E | CXXXXX | t=12\n",
      "X<| ED | CXXXXX | t=12\n"
     ]
    }
   ],
   "source": [
    "test.build_final_states()\n",
    "for state in test.final_states:\n",
    "    print(state)"
   ]
  },
  {
   "cell_type": "code",
   "execution_count": 17,
   "id": "f9234509-95bd-48c0-a6bc-4bdb8fa9d0ee",
   "metadata": {},
   "outputs": [
    {
     "name": "stdout",
     "output_type": "stream",
     "text": [
      "Nodes :\n",
      "ED<| X | CXXXXX | t=12\n",
      "E<| D | CXXXXX | t=12\n",
      "D<| E | CXXXXX | t=12\n",
      "X<| ED | CXXXXX | t=12\n",
      "E |>X | DCXXXX | t=11\n",
      "E |>D | XCXXXX | t=11\n",
      "E |>C | DXXXXX | t=11\n",
      "X |>E | DCXXXX | t=11\n",
      "X |>ED | XCXXXX | t=11\n",
      "X |>EC | DXXXXX | t=11\n",
      "X<| E | DXCXXX | t=10\n",
      "E<| C | DXXXXX | t=10\n",
      "E<| X | DXCXXX | t=10\n",
      "X<| EC | DXXXXX | t=10\n",
      "X |>X | EDXCXX | t=9\n",
      "X |>E | XDXCXX | t=9\n",
      "X |>D | EXXCXX | t=9\n",
      "X |>C | EDXXXX | t=9\n",
      "X |>CE | XDXXXX | t=9\n",
      "X |>CD | EXXXXX | t=9\n",
      "\n",
      "Edges :\n",
      "E |>X | DCXXXX | t=11\n",
      "E<| D | CXXXXX | t=12\n",
      "---\n",
      "E |>D | XCXXXX | t=11\n",
      "E<| D | CXXXXX | t=12\n",
      "---\n",
      "E |>C | DXXXXX | t=11\n",
      "E<| D | CXXXXX | t=12\n",
      "---\n",
      "X |>E | DCXXXX | t=11\n",
      "X<| ED | CXXXXX | t=12\n",
      "---\n",
      "X |>ED | XCXXXX | t=11\n",
      "X<| ED | CXXXXX | t=12\n",
      "---\n",
      "X |>EC | DXXXXX | t=11\n",
      "X<| ED | CXXXXX | t=12\n",
      "---\n",
      "X<| E | DXCXXX | t=10\n",
      "X |>E | DCXXXX | t=11\n",
      "---\n",
      "E<| C | DXXXXX | t=10\n",
      "E |>C | DXXXXX | t=11\n",
      "---\n",
      "E<| X | DXCXXX | t=10\n",
      "E |>X | DCXXXX | t=11\n",
      "---\n",
      "X<| EC | DXXXXX | t=10\n",
      "X |>EC | DXXXXX | t=11\n",
      "---\n",
      "X |>X | EDXCXX | t=9\n",
      "X<| E | DXCXXX | t=10\n",
      "---\n",
      "X |>E | XDXCXX | t=9\n",
      "X<| E | DXCXXX | t=10\n",
      "---\n",
      "X |>D | EXXCXX | t=9\n",
      "X<| E | DXCXXX | t=10\n",
      "---\n",
      "X |>C | EDXXXX | t=9\n",
      "X<| E | DXCXXX | t=10\n",
      "---\n",
      "X |>C | EDXXXX | t=9\n",
      "X<| EC | DXXXXX | t=10\n",
      "---\n",
      "X |>CE | XDXXXX | t=9\n",
      "X<| EC | DXXXXX | t=10\n",
      "---\n",
      "X |>CD | EXXXXX | t=9\n",
      "X<| EC | DXXXXX | t=10\n",
      "---\n"
     ]
    }
   ],
   "source": [
    "test.build_back_transitions()\n",
    "print(\"Nodes :\")\n",
    "for node in aut.nodes:\n",
    "    print(node)\n",
    "print(\"\\nEdges :\")\n",
    "for edge in aut.edges:\n",
    "    print(edge[0])\n",
    "    print(edge[1])\n",
    "    print(\"---\")"
   ]
  },
  {
   "cell_type": "code",
   "execution_count": 19,
   "id": "0df7eeb0-3ecd-496e-ae65-327ff18bfbbd",
   "metadata": {},
   "outputs": [],
   "source": [
    "test.draw(path=\"acdll2.svg\", notebook=False)"
   ]
  },
  {
   "cell_type": "code",
   "execution_count": null,
   "id": "d3a7f58b-1d65-4018-a246-ef17e58c34d4",
   "metadata": {},
   "outputs": [],
   "source": []
  }
 ],
 "metadata": {
  "kernelspec": {
   "display_name": "Python 3 (ipykernel)",
   "language": "python",
   "name": "python3"
  },
  "language_info": {
   "codemirror_mode": {
    "name": "ipython",
    "version": 3
   },
   "file_extension": ".py",
   "mimetype": "text/x-python",
   "name": "python",
   "nbconvert_exporter": "python",
   "pygments_lexer": "ipython3",
   "version": "3.12.1"
  }
 },
 "nbformat": 4,
 "nbformat_minor": 5
}
