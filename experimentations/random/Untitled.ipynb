{
 "cells": [
  {
   "cell_type": "code",
   "execution_count": 2,
   "id": "6bcd8d55-08c5-42af-b12d-146f79dd7e2f",
   "metadata": {},
   "outputs": [],
   "source": [
    "a = set()"
   ]
  },
  {
   "cell_type": "code",
   "execution_count": 3,
   "id": "ebfcf9f3-7554-4c96-874a-71798d01447f",
   "metadata": {},
   "outputs": [],
   "source": [
    "a.add(\"1\")"
   ]
  },
  {
   "cell_type": "code",
   "execution_count": 4,
   "id": "c1875537-217c-4c3b-a24a-381a205a96da",
   "metadata": {},
   "outputs": [
    {
     "ename": "TypeError",
     "evalue": "unhashable type: 'list'",
     "output_type": "error",
     "traceback": [
      "\u001b[0;31m---------------------------------------------------------------------------\u001b[0m",
      "\u001b[0;31mTypeError\u001b[0m                                 Traceback (most recent call last)",
      "Cell \u001b[0;32mIn[4], line 1\u001b[0m\n\u001b[0;32m----> 1\u001b[0m \u001b[43ma\u001b[49m\u001b[38;5;241;43m.\u001b[39;49m\u001b[43madd\u001b[49m\u001b[43m(\u001b[49m\u001b[43m[\u001b[49m\u001b[38;5;241;43m1\u001b[39;49m\u001b[43m,\u001b[49m\u001b[43m \u001b[49m\u001b[38;5;241;43m2\u001b[39;49m\u001b[43m]\u001b[49m\u001b[43m)\u001b[49m\n",
      "\u001b[0;31mTypeError\u001b[0m: unhashable type: 'list'"
     ]
    }
   ],
   "source": [
    "a.add([1, 2])"
   ]
  },
  {
   "cell_type": "code",
   "execution_count": 6,
   "id": "ea4534a1-14d8-45cd-9064-daa6f8cd0781",
   "metadata": {},
   "outputs": [],
   "source": [
    "a = frozenset([1, 2, 3])"
   ]
  },
  {
   "cell_type": "code",
   "execution_count": 2,
   "id": "01702f20-94bf-4345-b46a-371c94a68e3c",
   "metadata": {},
   "outputs": [],
   "source": [
    "import networkx as nx"
   ]
  },
  {
   "cell_type": "code",
   "execution_count": 3,
   "id": "e78c4700-2db0-481b-a113-5c33034caeab",
   "metadata": {},
   "outputs": [],
   "source": [
    "a = nx.DiGraph()"
   ]
  },
  {
   "cell_type": "code",
   "execution_count": 32,
   "id": "a652658e-efb3-4215-a8b1-5ed8d1f8e4e4",
   "metadata": {},
   "outputs": [],
   "source": [
    "from dataclasses import dataclass\n",
    "@dataclass\n",
    "class Test:\n",
    "    i : list"
   ]
  },
  {
   "cell_type": "code",
   "execution_count": 33,
   "id": "f0f7d10c-4c96-4c03-b011-edc93c6fe5eb",
   "metadata": {},
   "outputs": [],
   "source": [
    "b = Test([1, 2])"
   ]
  },
  {
   "cell_type": "code",
   "execution_count": 34,
   "id": "bdee92ec-f7d2-4dba-ba2c-71c462b3b4e4",
   "metadata": {},
   "outputs": [],
   "source": [
    "c = Test([1, 2])"
   ]
  },
  {
   "cell_type": "code",
   "execution_count": 35,
   "id": "1b8c7722-78c6-4442-9ce7-8220a217b129",
   "metadata": {},
   "outputs": [
    {
     "data": {
      "text/plain": [
       "True"
      ]
     },
     "execution_count": 35,
     "metadata": {},
     "output_type": "execute_result"
    }
   ],
   "source": [
    "b == c"
   ]
  },
  {
   "cell_type": "code",
   "execution_count": 36,
   "id": "82ef6f9d-f63d-4425-b51d-ce642a5c0bf9",
   "metadata": {},
   "outputs": [],
   "source": [
    "b.i[0] = 2"
   ]
  },
  {
   "cell_type": "code",
   "execution_count": 37,
   "id": "994fad41-b787-4adb-b1dd-dd284792b537",
   "metadata": {},
   "outputs": [
    {
     "data": {
      "text/plain": [
       "False"
      ]
     },
     "execution_count": 37,
     "metadata": {},
     "output_type": "execute_result"
    }
   ],
   "source": [
    "b == c"
   ]
  },
  {
   "cell_type": "code",
   "execution_count": 38,
   "id": "4bc83ef5-6074-4489-8fa4-84ed9394face",
   "metadata": {},
   "outputs": [
    {
     "ename": "TypeError",
     "evalue": "unhashable type: 'Test'",
     "output_type": "error",
     "traceback": [
      "\u001b[0;31m---------------------------------------------------------------------------\u001b[0m",
      "\u001b[0;31mTypeError\u001b[0m                                 Traceback (most recent call last)",
      "Cell \u001b[0;32mIn[38], line 1\u001b[0m\n\u001b[0;32m----> 1\u001b[0m \u001b[43ma\u001b[49m\u001b[38;5;241;43m.\u001b[39;49m\u001b[43madd_node\u001b[49m\u001b[43m(\u001b[49m\u001b[43mb\u001b[49m\u001b[43m)\u001b[49m\n",
      "File \u001b[0;32m~/miniforge3/envs/these/lib/python3.12/site-packages/networkx/classes/digraph.py:459\u001b[0m, in \u001b[0;36mDiGraph.add_node\u001b[0;34m(self, node_for_adding, **attr)\u001b[0m\n\u001b[1;32m    420\u001b[0m \u001b[38;5;28;01mdef\u001b[39;00m \u001b[38;5;21madd_node\u001b[39m(\u001b[38;5;28mself\u001b[39m, node_for_adding, \u001b[38;5;241m*\u001b[39m\u001b[38;5;241m*\u001b[39mattr):\n\u001b[1;32m    421\u001b[0m \u001b[38;5;250m    \u001b[39m\u001b[38;5;124;03m\"\"\"Add a single node `node_for_adding` and update node attributes.\u001b[39;00m\n\u001b[1;32m    422\u001b[0m \n\u001b[1;32m    423\u001b[0m \u001b[38;5;124;03m    Parameters\u001b[39;00m\n\u001b[0;32m   (...)\u001b[0m\n\u001b[1;32m    457\u001b[0m \u001b[38;5;124;03m    doesn't change on mutables.\u001b[39;00m\n\u001b[1;32m    458\u001b[0m \u001b[38;5;124;03m    \"\"\"\u001b[39;00m\n\u001b[0;32m--> 459\u001b[0m     \u001b[38;5;28;01mif\u001b[39;00m \u001b[43mnode_for_adding\u001b[49m\u001b[43m \u001b[49m\u001b[38;5;129;43;01mnot\u001b[39;49;00m\u001b[43m \u001b[49m\u001b[38;5;129;43;01min\u001b[39;49;00m\u001b[43m \u001b[49m\u001b[38;5;28;43mself\u001b[39;49m\u001b[38;5;241;43m.\u001b[39;49m\u001b[43m_succ\u001b[49m:\n\u001b[1;32m    460\u001b[0m         \u001b[38;5;28;01mif\u001b[39;00m node_for_adding \u001b[38;5;129;01mis\u001b[39;00m \u001b[38;5;28;01mNone\u001b[39;00m:\n\u001b[1;32m    461\u001b[0m             \u001b[38;5;28;01mraise\u001b[39;00m \u001b[38;5;167;01mValueError\u001b[39;00m(\u001b[38;5;124m\"\u001b[39m\u001b[38;5;124mNone cannot be a node\u001b[39m\u001b[38;5;124m\"\u001b[39m)\n",
      "\u001b[0;31mTypeError\u001b[0m: unhashable type: 'Test'"
     ]
    }
   ],
   "source": [
    "a.add_node(b)"
   ]
  },
  {
   "cell_type": "code",
   "execution_count": 39,
   "id": "f88080aa-e998-4dcd-a7e2-34693993cdc0",
   "metadata": {},
   "outputs": [
    {
     "ename": "TypeError",
     "evalue": "unhashable type: 'list'",
     "output_type": "error",
     "traceback": [
      "\u001b[0;31m---------------------------------------------------------------------------\u001b[0m",
      "\u001b[0;31mTypeError\u001b[0m                                 Traceback (most recent call last)",
      "Cell \u001b[0;32mIn[39], line 1\u001b[0m\n\u001b[0;32m----> 1\u001b[0m \u001b[43ma\u001b[49m\u001b[38;5;241;43m.\u001b[39;49m\u001b[43madd_node\u001b[49m\u001b[43m(\u001b[49m\u001b[43m[\u001b[49m\u001b[38;5;241;43m1\u001b[39;49m\u001b[43m]\u001b[49m\u001b[43m)\u001b[49m\n",
      "File \u001b[0;32m~/miniforge3/envs/these/lib/python3.12/site-packages/networkx/classes/digraph.py:459\u001b[0m, in \u001b[0;36mDiGraph.add_node\u001b[0;34m(self, node_for_adding, **attr)\u001b[0m\n\u001b[1;32m    420\u001b[0m \u001b[38;5;28;01mdef\u001b[39;00m \u001b[38;5;21madd_node\u001b[39m(\u001b[38;5;28mself\u001b[39m, node_for_adding, \u001b[38;5;241m*\u001b[39m\u001b[38;5;241m*\u001b[39mattr):\n\u001b[1;32m    421\u001b[0m \u001b[38;5;250m    \u001b[39m\u001b[38;5;124;03m\"\"\"Add a single node `node_for_adding` and update node attributes.\u001b[39;00m\n\u001b[1;32m    422\u001b[0m \n\u001b[1;32m    423\u001b[0m \u001b[38;5;124;03m    Parameters\u001b[39;00m\n\u001b[0;32m   (...)\u001b[0m\n\u001b[1;32m    457\u001b[0m \u001b[38;5;124;03m    doesn't change on mutables.\u001b[39;00m\n\u001b[1;32m    458\u001b[0m \u001b[38;5;124;03m    \"\"\"\u001b[39;00m\n\u001b[0;32m--> 459\u001b[0m     \u001b[38;5;28;01mif\u001b[39;00m \u001b[43mnode_for_adding\u001b[49m\u001b[43m \u001b[49m\u001b[38;5;129;43;01mnot\u001b[39;49;00m\u001b[43m \u001b[49m\u001b[38;5;129;43;01min\u001b[39;49;00m\u001b[43m \u001b[49m\u001b[38;5;28;43mself\u001b[39;49m\u001b[38;5;241;43m.\u001b[39;49m\u001b[43m_succ\u001b[49m:\n\u001b[1;32m    460\u001b[0m         \u001b[38;5;28;01mif\u001b[39;00m node_for_adding \u001b[38;5;129;01mis\u001b[39;00m \u001b[38;5;28;01mNone\u001b[39;00m:\n\u001b[1;32m    461\u001b[0m             \u001b[38;5;28;01mraise\u001b[39;00m \u001b[38;5;167;01mValueError\u001b[39;00m(\u001b[38;5;124m\"\u001b[39m\u001b[38;5;124mNone cannot be a node\u001b[39m\u001b[38;5;124m\"\u001b[39m)\n",
      "\u001b[0;31mTypeError\u001b[0m: unhashable type: 'list'"
     ]
    }
   ],
   "source": [
    "a.add_node([1])"
   ]
  },
  {
   "cell_type": "code",
   "execution_count": 53,
   "id": "79615e32-1c63-40e9-9e80-b5cc10085d78",
   "metadata": {},
   "outputs": [],
   "source": [
    "@dataclass(frozen=True)\n",
    "class Test2:\n",
    "    i : list"
   ]
  },
  {
   "cell_type": "code",
   "execution_count": 54,
   "id": "8cb09c8c-82ed-4698-b701-1db4bcbc92e2",
   "metadata": {},
   "outputs": [],
   "source": [
    "e = Test2((1, 2))"
   ]
  },
  {
   "cell_type": "code",
   "execution_count": 46,
   "id": "15e36cf6-1e7b-49dd-9513-e92bcac1a131",
   "metadata": {},
   "outputs": [],
   "source": [
    "e.i[0] = "
   ]
  },
  {
   "cell_type": "code",
   "execution_count": 48,
   "id": "3822a8e5-9048-4fdb-98ec-d905a54265c5",
   "metadata": {},
   "outputs": [
    {
     "ename": "FrozenInstanceError",
     "evalue": "cannot assign to field 'i'",
     "output_type": "error",
     "traceback": [
      "\u001b[0;31m---------------------------------------------------------------------------\u001b[0m",
      "\u001b[0;31mFrozenInstanceError\u001b[0m                       Traceback (most recent call last)",
      "Cell \u001b[0;32mIn[48], line 1\u001b[0m\n\u001b[0;32m----> 1\u001b[0m \u001b[43me\u001b[49m\u001b[38;5;241;43m.\u001b[39;49m\u001b[43mi\u001b[49m \u001b[38;5;241m=\u001b[39m [\u001b[38;5;241m2\u001b[39m]\n",
      "File \u001b[0;32m<string>:4\u001b[0m, in \u001b[0;36m__setattr__\u001b[0;34m(self, name, value)\u001b[0m\n",
      "\u001b[0;31mFrozenInstanceError\u001b[0m: cannot assign to field 'i'"
     ]
    }
   ],
   "source": [
    "e.i = [2]"
   ]
  },
  {
   "cell_type": "code",
   "execution_count": 8,
   "id": "7d8adcde-104a-496e-8cc1-008534ef2205",
   "metadata": {},
   "outputs": [],
   "source": [
    "a = [1, 2, 3]\n",
    "b = (1, 2, 3)"
   ]
  },
  {
   "cell_type": "code",
   "execution_count": 9,
   "id": "0b45aa76-98d8-421c-bf72-0d080d401977",
   "metadata": {},
   "outputs": [
    {
     "data": {
      "text/plain": [
       "False"
      ]
     },
     "execution_count": 9,
     "metadata": {},
     "output_type": "execute_result"
    }
   ],
   "source": [
    "from collections.abc import Sequence, MutableSequence\n",
    "isinstance(b, MutableSequence)"
   ]
  },
  {
   "cell_type": "code",
   "execution_count": 12,
   "id": "ee07f98a-0c54-477a-845d-fa51d928c50a",
   "metadata": {},
   "outputs": [],
   "source": [
    "class Test:\n",
    "    def t():\n",
    "        return 1"
   ]
  },
  {
   "cell_type": "code",
   "execution_count": 14,
   "id": "d554d3d2-f902-4ffa-ba96-72f93259eca1",
   "metadata": {},
   "outputs": [
    {
     "ename": "TypeError",
     "evalue": "Test.t() takes 0 positional arguments but 1 was given",
     "output_type": "error",
     "traceback": [
      "\u001b[0;31m---------------------------------------------------------------------------\u001b[0m",
      "\u001b[0;31mTypeError\u001b[0m                                 Traceback (most recent call last)",
      "Cell \u001b[0;32mIn[14], line 2\u001b[0m\n\u001b[1;32m      1\u001b[0m a \u001b[38;5;241m=\u001b[39m Test()\n\u001b[0;32m----> 2\u001b[0m \u001b[43mTest\u001b[49m\u001b[38;5;241;43m.\u001b[39;49m\u001b[43mt\u001b[49m\u001b[43m(\u001b[49m\u001b[43ma\u001b[49m\u001b[43m)\u001b[49m\n",
      "\u001b[0;31mTypeError\u001b[0m: Test.t() takes 0 positional arguments but 1 was given"
     ]
    }
   ],
   "source": [
    "a = Test()\n",
    "Test.t(a)"
   ]
  },
  {
   "cell_type": "code",
   "execution_count": 2,
   "id": "afb751bf-c508-41ba-baea-d7b0fd0e3e7c",
   "metadata": {},
   "outputs": [],
   "source": [
    "a = set([1, 2, 3])"
   ]
  },
  {
   "cell_type": "code",
   "execution_count": 3,
   "id": "397a40c1-66c6-4ec2-b448-4b382cc6389f",
   "metadata": {},
   "outputs": [
    {
     "data": {
      "text/plain": [
       "{1, 2, 3}"
      ]
     },
     "execution_count": 3,
     "metadata": {},
     "output_type": "execute_result"
    }
   ],
   "source": [
    "a"
   ]
  },
  {
   "cell_type": "code",
   "execution_count": 4,
   "id": "787eab09-18ac-493e-9b02-c8412f38618f",
   "metadata": {},
   "outputs": [],
   "source": [
    "b = a"
   ]
  },
  {
   "cell_type": "code",
   "execution_count": 5,
   "id": "6ad84b24-3ecf-46d5-afad-31399168d4ee",
   "metadata": {},
   "outputs": [],
   "source": [
    "a = []"
   ]
  },
  {
   "cell_type": "code",
   "execution_count": 7,
   "id": "4ce80c35-e1f4-4ec8-96f0-8d430899e5aa",
   "metadata": {},
   "outputs": [],
   "source": [
    "import networkx as nx"
   ]
  },
  {
   "cell_type": "code",
   "execution_count": 8,
   "id": "d1417b06-9624-4e35-8047-6ea6847ebc82",
   "metadata": {},
   "outputs": [],
   "source": [
    "a = nx.DiGraph()"
   ]
  },
  {
   "cell_type": "code",
   "execution_count": 9,
   "id": "4ef79487-80fe-4984-a053-4b6a1412d93d",
   "metadata": {},
   "outputs": [],
   "source": [
    "a.add_edges_from([(0, 1), (1, 2), (1, 3), (3, 4)])"
   ]
  },
  {
   "cell_type": "code",
   "execution_count": 18,
   "id": "dce8d202-4f1c-40a9-885a-d0b4b3914e71",
   "metadata": {},
   "outputs": [
    {
     "data": {
      "text/plain": [
       "[]"
      ]
     },
     "execution_count": 18,
     "metadata": {},
     "output_type": "execute_result"
    }
   ],
   "source": [
    "list(a.predecessors(0))"
   ]
  },
  {
   "cell_type": "code",
   "execution_count": null,
   "id": "bb05ca61-67a5-45e8-a0ca-ec10bf300894",
   "metadata": {},
   "outputs": [],
   "source": []
  }
 ],
 "metadata": {
  "kernelspec": {
   "display_name": "Python 3 (ipykernel)",
   "language": "python",
   "name": "python3"
  },
  "language_info": {
   "codemirror_mode": {
    "name": "ipython",
    "version": 3
   },
   "file_extension": ".py",
   "mimetype": "text/x-python",
   "name": "python",
   "nbconvert_exporter": "python",
   "pygments_lexer": "ipython3",
   "version": "3.12.1"
  }
 },
 "nbformat": 4,
 "nbformat_minor": 5
}
