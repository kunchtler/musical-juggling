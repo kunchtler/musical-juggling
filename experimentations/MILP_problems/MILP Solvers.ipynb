{
 "cells": [
  {
   "cell_type": "markdown",
   "id": "591a1340",
   "metadata": {},
   "source": [
    "# Test de plusieurs librairies pour résoudre des problèmes MILP\n",
    "\n",
    "Test effectués sur Google or-tools, pulp, pyomo"
   ]
  },
  {
   "cell_type": "code",
   "execution_count": 1,
   "id": "fdbc0446-6f40-4c56-bf91-8db3e6c1ad77",
   "metadata": {},
   "outputs": [],
   "source": [
    "import numpy as np\n",
    "d = [80, 270, 250, 160, 180]  # customer demand\n",
    "M = [500, 500, 500]            # factory capacity\n",
    "I = 5                         # Customers\n",
    "J = 3                             # Factories\n",
    "cost = [[4, 6, 9],\n",
    "        [5, 4, 7],\n",
    "        [6, 3, 3],\n",
    "        [8, 5, 3],\n",
    "        [10, 8, 4],\n",
    "       ]                                # transportation costs"
   ]
  },
  {
   "cell_type": "markdown",
   "id": "b2393e61",
   "metadata": {},
   "source": [
    "## 1. Or-tools"
   ]
  },
  {
   "cell_type": "code",
   "execution_count": 1,
   "id": "aafedd90",
   "metadata": {},
   "outputs": [
    {
     "name": "stdout",
     "output_type": "stream",
     "text": [
      "Number of variables = 2\n",
      "Number of constraints = 1\n",
      "Solution:\n",
      "Objective value = 4.0\n",
      "x = 1.0\n",
      "y = 1.0\n"
     ]
    }
   ],
   "source": [
    "from ortools.linear_solver import pywraplp\n",
    "\n",
    "# Create the linear solver with the GLOP backend.\n",
    "solver = pywraplp.Solver.CreateSolver(\"GLOP\")\n",
    "if not solver:\n",
    "    print(\"Oh oh...\")\n",
    "\n",
    "# Create the variables x and y.\n",
    "x = solver.NumVar(0, 1, \"x\")\n",
    "y = solver.NumVar(0, 2, \"y\")\n",
    "\n",
    "print(\"Number of variables =\", solver.NumVariables())\n",
    "\n",
    "# Create a linear constraint, 0 <= x + y <= 2.\n",
    "ct = solver.Constraint(0, 2, \"ct\")\n",
    "ct.SetCoefficient(x, 1)\n",
    "ct.SetCoefficient(y, 1)\n",
    "\n",
    "print(\"Number of constraints =\", solver.NumConstraints())\n",
    "\n",
    "# Create the objective function, 3 * x + y.\n",
    "objective = solver.Objective()\n",
    "objective.SetCoefficient(x, 3)\n",
    "objective.SetCoefficient(y, 1)\n",
    "objective.SetMaximization()\n",
    "\n",
    "solver.Solve()\n",
    "\n",
    "print(\"Solution:\")\n",
    "print(\"Objective value =\", objective.Value())\n",
    "print(\"x =\", x.solution_value())\n",
    "print(\"y =\", y.solution_value())"
   ]
  },
  {
   "cell_type": "code",
   "execution_count": 2,
   "id": "0c4f2088",
   "metadata": {},
   "outputs": [
    {
     "name": "stdout",
     "output_type": "stream",
     "text": [
      "[4, 6, 1, 3, 5, 9, 7, 2, 8]\n",
      "[8, 5, 2, 4, 1, 7, 6, 9, 3]\n",
      "[7, 9, 3, 6, 8, 2, 5, 1, 4]\n",
      "[2, 1, 6, 8, 3, 5, 4, 7, 9]\n",
      "[9, 8, 4, 2, 7, 6, 1, 3, 5]\n",
      "[3, 7, 5, 1, 9, 4, 8, 6, 2]\n",
      "[5, 4, 7, 9, 2, 1, 3, 8, 6]\n",
      "[1, 3, 9, 5, 6, 8, 2, 4, 7]\n",
      "[6, 2, 8, 7, 4, 3, 9, 5, 1]\n"
     ]
    }
   ],
   "source": [
    "#!/usr/bin/env python3\n",
    "# Copyright 2010-2022 Google LLC\n",
    "# Licensed under the Apache License, Version 2.0 (the \"License\");\n",
    "# you may not use this file except in compliance with the License.\n",
    "# You may obtain a copy of the License at\n",
    "#\n",
    "#     http://www.apache.org/licenses/LICENSE-2.0\n",
    "#\n",
    "# Unless required by applicable law or agreed to in writing, software\n",
    "# distributed under the License is distributed on an \"AS IS\" BASIS,\n",
    "# WITHOUT WARRANTIES OR CONDITIONS OF ANY KIND, either express or implied.\n",
    "# See the License for the specific language governing permissions and\n",
    "# limitations under the License.\n",
    "\n",
    "\"\"\"This model implements a sudoku solver.\"\"\"\n",
    "\n",
    "from ortools.sat.python import cp_model\n",
    "\n",
    "\n",
    "def solve_sudoku():\n",
    "    \"\"\"Solves the sudoku problem with the CP-SAT solver.\"\"\"\n",
    "    # Create the model.\n",
    "    model = cp_model.CpModel()\n",
    "\n",
    "    cell_size = 3\n",
    "    line_size = cell_size**2\n",
    "    line = list(range(0, line_size))\n",
    "    cell = list(range(0, cell_size))\n",
    "\n",
    "    initial_grid = [\n",
    "        [0, 6, 0, 0, 5, 0, 0, 2, 0],\n",
    "        [0, 0, 0, 4, 0, 0, 0, 9, 0],\n",
    "        [7, 0, 0, 6, 0, 0, 0, 1, 0],\n",
    "        [0, 0, 6, 0, 3, 0, 4, 0, 0],\n",
    "        [0, 0, 4, 0, 7, 0, 1, 0, 0],\n",
    "        [0, 0, 5, 0, 9, 0, 8, 0, 0],\n",
    "        [0, 4, 0, 0, 0, 1, 0, 0, 6],\n",
    "        [0, 3, 0, 0, 0, 8, 0, 0, 0],\n",
    "        [0, 2, 0, 0, 4, 0, 0, 5, 0],\n",
    "    ]\n",
    "\n",
    "    grid = {}\n",
    "    for i in line:\n",
    "        for j in line:\n",
    "            grid[(i, j)] = model.NewIntVar(1, line_size, \"grid %i %i\" % (i, j))\n",
    "\n",
    "    # AllDifferent on rows.\n",
    "    for i in line:\n",
    "        model.AddAllDifferent(grid[(i, j)] for j in line)\n",
    "\n",
    "    # AllDifferent on columns.\n",
    "    for j in line:\n",
    "        model.AddAllDifferent(grid[(i, j)] for i in line)\n",
    "\n",
    "    # AllDifferent on cells.\n",
    "    for i in cell:\n",
    "        for j in cell:\n",
    "            one_cell = []\n",
    "            for di in cell:\n",
    "                for dj in cell:\n",
    "                    one_cell.append(grid[(i * cell_size + di, j * cell_size + dj)])\n",
    "\n",
    "            model.AddAllDifferent(one_cell)\n",
    "\n",
    "    # Initial values.\n",
    "    for i in line:\n",
    "        for j in line:\n",
    "            if initial_grid[i][j]:\n",
    "                model.Add(grid[(i, j)] == initial_grid[i][j])\n",
    "\n",
    "    # Solve and print out the solution.\n",
    "    solver = cp_model.CpSolver()\n",
    "    status = solver.Solve(model)\n",
    "    if status == cp_model.OPTIMAL:\n",
    "        for i in line:\n",
    "            print([int(solver.Value(grid[(i, j)])) for j in line])\n",
    "\n",
    "\n",
    "solve_sudoku()"
   ]
  },
  {
   "cell_type": "code",
   "execution_count": 3,
   "id": "3a177414",
   "metadata": {},
   "outputs": [
    {
     "name": "stdout",
     "output_type": "stream",
     "text": [
      "Number of variables = 5\n",
      "Number of constraints = 4\n",
      "Objective value = 259.99999999999966\n",
      "x[0]  =  8.0\n",
      "x[1]  =  21.0\n",
      "x[2]  =  0.0\n",
      "x[3]  =  2.0\n",
      "x[4]  =  3.0\n",
      "\n",
      "Problem solved in 92.000000 milliseconds\n",
      "Problem solved in 71 iterations\n",
      "Problem solved in 7 branch-and-bound nodes\n"
     ]
    }
   ],
   "source": [
    "from ortools.linear_solver import pywraplp\n",
    "\n",
    "\n",
    "def create_data_model():\n",
    "    \"\"\"Stores the data for the problem.\"\"\"\n",
    "    data = {}\n",
    "    data[\"constraint_coeffs\"] = [\n",
    "        [5, 7, 9, 2, 1],\n",
    "        [18, 4, -9, 10, 12],\n",
    "        [4, 7, 3, 8, 5],\n",
    "        [5, 13, 16, 3, -7],\n",
    "    ]\n",
    "    data[\"bounds\"] = [250, 285, 211, 315]\n",
    "    data[\"obj_coeffs\"] = [7, 8, 2, 9, 6]\n",
    "    data[\"num_vars\"] = 5\n",
    "    data[\"num_constraints\"] = 4\n",
    "    return data\n",
    "\n",
    "\n",
    "\n",
    "def main():\n",
    "    data = create_data_model()\n",
    "    # Create the mip solver with the SCIP backend.\n",
    "    solver = pywraplp.Solver.CreateSolver(\"SCIP\")\n",
    "    if not solver:\n",
    "        return\n",
    "\n",
    "    infinity = solver.infinity()\n",
    "    x = {}\n",
    "    for j in range(data[\"num_vars\"]):\n",
    "        x[j] = solver.IntVar(0, infinity, \"x[%i]\" % j)\n",
    "    print(\"Number of variables =\", solver.NumVariables())\n",
    "\n",
    "    for i in range(data[\"num_constraints\"]):\n",
    "        constraint = solver.RowConstraint(0, data[\"bounds\"][i], \"\")\n",
    "        for j in range(data[\"num_vars\"]):\n",
    "            constraint.SetCoefficient(x[j], data[\"constraint_coeffs\"][i][j])\n",
    "    print(\"Number of constraints =\", solver.NumConstraints())\n",
    "    # In Python, you can also set the constraints as follows.\n",
    "    # for i in range(data['num_constraints']):\n",
    "    #  constraint_expr = \\\n",
    "    # [data['constraint_coeffs'][i][j] * x[j] for j in range(data['num_vars'])]\n",
    "    #  solver.Add(sum(constraint_expr) <= data['bounds'][i])\n",
    "\n",
    "    objective = solver.Objective()\n",
    "    for j in range(data[\"num_vars\"]):\n",
    "        objective.SetCoefficient(x[j], data[\"obj_coeffs\"][j])\n",
    "    objective.SetMaximization()\n",
    "    # In Python, you can also set the objective as follows.\n",
    "    # obj_expr = [data['obj_coeffs'][j] * x[j] for j in range(data['num_vars'])]\n",
    "    # solver.Maximize(solver.Sum(obj_expr))\n",
    "\n",
    "    status = solver.Solve()\n",
    "\n",
    "    if status == pywraplp.Solver.OPTIMAL:\n",
    "        print(\"Objective value =\", solver.Objective().Value())\n",
    "        for j in range(data[\"num_vars\"]):\n",
    "            print(x[j].name(), \" = \", x[j].solution_value())\n",
    "        print()\n",
    "        print(\"Problem solved in %f milliseconds\" % solver.wall_time())\n",
    "        print(\"Problem solved in %d iterations\" % solver.iterations())\n",
    "        print(\"Problem solved in %d branch-and-bound nodes\" % solver.nodes())\n",
    "    else:\n",
    "        print(\"The problem does not have an optimal solution.\")\n",
    "\n",
    "\n",
    "if __name__ == \"__main__\":\n",
    "    main()"
   ]
  },
  {
   "cell_type": "code",
   "execution_count": 62,
   "id": "b040a339",
   "metadata": {},
   "outputs": [],
   "source": [
    "import numpy as np\n",
    "d = [80, 270, 250, 160, 180]  # customer demand\n",
    "M = [500, 500, 500]            # factory capacity\n",
    "I = 5                         # Customers\n",
    "J = 3                             # Factories\n",
    "cost = [[4, 6, 9],\n",
    "        [5, 4, 7],\n",
    "        [6, 3, 3],\n",
    "        [8, 5, 3],\n",
    "        [10, 8, 4],\n",
    "       ]                                # transportation costs"
   ]
  },
  {
   "cell_type": "code",
   "execution_count": 80,
   "id": "d9e5e216",
   "metadata": {},
   "outputs": [
    {
     "name": "stdout",
     "output_type": "stream",
     "text": [
      "Number of variables = 15\n",
      "Number of constraints = 8\n",
      "Time taken : 4.2672 ms.\n",
      "Objective value = 3349.9999999999995\n",
      "x[0][0]  =  80.0\n",
      "x[0][1]  =  0.0\n",
      "x[0][2]  =  0.0\n",
      "x[1][0]  =  0.0\n",
      "x[1][1]  =  270.0\n",
      "x[1][2]  =  0.0\n",
      "x[2][0]  =  0.0\n",
      "x[2][1]  =  90.0\n",
      "x[2][2]  =  160.0\n",
      "x[3][0]  =  0.0\n",
      "x[3][1]  =  0.0\n",
      "x[3][2]  =  160.0\n",
      "x[4][0]  =  0.0\n",
      "x[4][1]  =  0.0\n",
      "x[4][2]  =  180.0\n",
      "\n",
      "Problem solved in 20.000000 milliseconds\n",
      "Problem solved in 6 iterations\n",
      "Problem solved in 1 branch-and-bound nodes\n"
     ]
    }
   ],
   "source": [
    "from ortools.linear_solver import pywraplp\n",
    "\n",
    "solver = pywraplp.Solver.CreateSolver(\"SCIP\")\n",
    "if not solver:\n",
    "    print(\"Oh oh...\")\n",
    "\n",
    "\n",
    "# Création des variables.\n",
    "x = [[0 for j in range(J)] for i in range(I)]\n",
    "infinity = solver.infinity()\n",
    "for i in range(I):\n",
    "    for j in range(J):\n",
    "        x[i][j] = solver.IntVar(0, infinity, f\"x[{i}][{j}]\")\n",
    "print(\"Number of variables =\", solver.NumVariables())\n",
    "\n",
    "for i in range(I):\n",
    "    acc = 0\n",
    "    for j in range(J):\n",
    "        acc += x[i][j]\n",
    "    solver.Add(acc == d[i], f\"Demand customer {i}\")\n",
    "for j in range(J):\n",
    "    constraint = solver.RowConstraint(0, M[j], f\"Factory {j} capacity\")\n",
    "    for i in range(I):\n",
    "        constraint.SetCoefficient(x[i][j], 1)\n",
    "print(\"Number of constraints =\", solver.NumConstraints())\n",
    "\n",
    "# In Python, you can also set the constraints as follows.\n",
    "# for i in range(data['num_constraints']):\n",
    "#  constraint_expr = \\\n",
    "# [data['constraint_coeffs'][i][j] * x[j] for j in range(data['num_vars'])]\n",
    "#  solver.Add(sum(constraint_expr) <= data['bounds'][i])\n",
    "\n",
    "objective = solver.Objective()\n",
    "for i in range(I):\n",
    "    for j in range(J):\n",
    "        objective.SetCoefficient(x[i][j], cost[i][j])\n",
    "objective.SetMinimization()\n",
    "\n",
    "# In Python, you can also set the objective as follows.\n",
    "# obj_expr = [cost[i][j] * x[i][j] for j in J for i in I]\n",
    "# solver.Minimize(solver.Sum(obj_expr))\n",
    "\n",
    "import time\n",
    "start_time = time.time_ns()\n",
    "status = solver.Solve()\n",
    "end_time = time.time_ns()\n",
    "print(f\"Time taken : {(end_time - start_time) / 1e6} ms.\")\n",
    "\n",
    "if status == pywraplp.Solver.OPTIMAL:\n",
    "    print(\"Objective value =\", solver.Objective().Value())\n",
    "    for i in range(I):\n",
    "        for j in range(J):\n",
    "            print(x[i][j].name(), \" = \", x[i][j].solution_value())\n",
    "    print()\n",
    "    print(\"Problem solved in %f milliseconds\" % solver.wall_time())\n",
    "    print(\"Problem solved in %d iterations\" % solver.iterations())\n",
    "    print(\"Problem solved in %d branch-and-bound nodes\" % solver.nodes())\n",
    "else:\n",
    "    print(\"The problem does not have an optimal solution.\")"
   ]
  },
  {
   "cell_type": "markdown",
   "id": "43150993",
   "metadata": {},
   "source": [
    "## PulP"
   ]
  },
  {
   "cell_type": "code",
   "execution_count": 2,
   "id": "d77e4d46",
   "metadata": {},
   "outputs": [],
   "source": [
    "import sys\n",
    "import numpy as np\n",
    "d = {1:80, 2:270, 3:250, 4:160, 5:180}  # customer demand\n",
    "M = {1:500, 2:500, 3:500}               # factory capacity\n",
    "I = [1,2,3,4,5]                         # Customers\n",
    "J = [1,2,3]                             # Factories\n",
    "cost = {(1,1):4,    (1,2):6,    (1,3):9,\n",
    "     (2,1):5,    (2,2):4,    (2,3):7,\n",
    "     (3,1):6,    (3,2):3,    (3,3):3,\n",
    "     (4,1):8,    (4,2):5,    (4,3):3,\n",
    "     (5,1):10,   (5,2):8,    (5,3):4\n",
    "   }    "
   ]
  },
  {
   "cell_type": "code",
   "execution_count": 26,
   "id": "b5744edf-9c36-4b30-b6bb-5d504cba4c07",
   "metadata": {},
   "outputs": [
    {
     "name": "stdout",
     "output_type": "stream",
     "text": [
      "Time taken : 9.665499 ms.\n",
      "Solution is optimal: Optimal\n",
      "Objective function value = 3350.0\n",
      "sending quantity       80.0 from factory   1 to customer   1\n",
      "sending quantity      270.0 from factory   2 to customer   2\n",
      "sending quantity      250.0 from factory   2 to customer   3\n",
      "sending quantity      160.0 from factory   3 to customer   4\n",
      "sending quantity      180.0 from factory   3 to customer   5\n"
     ]
    },
    {
     "name": "stderr",
     "output_type": "stream",
     "text": [
      "/home/leoku/mambaforge/envs/jugglyng/lib/python3.9/site-packages/pulp/pulp.py:1352: UserWarning: Spaces are not permitted in the name. Converted to '_'\n",
      "  warnings.warn(\"Spaces are not permitted in the name. Converted to '_'\")\n"
     ]
    }
   ],
   "source": [
    "import pulp\n",
    "x = pulp.LpVariable.dicts(\"amount of goods\", ((i, j) for i in I for j in J), lowBound = 0, cat = 'Continuous')\n",
    "\n",
    "\n",
    "objective = pulp.LpAffineExpression(e = [(x[i,j],cost[i,j]) for i,j in x], name = 'Objective function')\n",
    "model = pulp.LpProblem(name = \"Transportation cost minimization\", \n",
    "                        sense = pulp.LpMinimize)\n",
    "model += pulp.lpSum(objective)\n",
    "\n",
    "\n",
    "# Constraint: sum of goods == customer demand\n",
    "for i in I:\n",
    "    tmpExpression = pulp.LpAffineExpression(e = [(x[i,j], 1) for j in J if (i,j) in x])\n",
    "    tmpConstraint = pulp.LpConstraint(e = pulp.lpSum(tmpExpression),\n",
    "        sense = pulp.LpConstraintEQ,                                \n",
    "        rhs = d[i])\n",
    "    model.addConstraint(tmpConstraint)\n",
    "# Constraint: sum of goods <= factory capacityy\n",
    "for j in J:\n",
    "    tmpExpression = pulp.LpAffineExpression(e = [(x[i,j], 1) for j in J if (i,j) in x])\n",
    "    tmpConstraint = pulp.LpConstraint(e = pulp.lpSum(tmpExpression),\n",
    "        sense = pulp.LpConstraintLE,\n",
    "        rhs = M[j])\n",
    "    model.addConstraint(tmpConstraint)\n",
    "\n",
    "\n",
    "solver = pulp.get_solver('HiGHS_CMD', msg=True)\n",
    "import time\n",
    "start_time = time.time_ns()\n",
    "results = model.solve(solver)\n",
    "end_time = time.time_ns()\n",
    "print(f\"Time taken : {(end_time - start_time) / 1e6} ms.\")\n",
    "\n",
    "if model.status == 1:\n",
    "    print('Solution is optimal: %s' %pulp.LpStatus[model.status])\n",
    "else:\n",
    "    print('Failed to find solution: %s' %pulp.LpStatus[model.status])\n",
    "print('Objective function value =', pulp.value(model.objective))\n",
    "EPS = 1.e-6\n",
    "for (i,j) in x:\n",
    "    if x[i,j].varValue > EPS:\n",
    "        print(\"sending quantity %10s from factory %3s to customer %3s\" % (x[i,j].varValue,j,i))"
   ]
  },
  {
   "cell_type": "code",
   "execution_count": 1,
   "id": "4ece939c-86c6-4985-a2e5-04b1a366b401",
   "metadata": {},
   "outputs": [
    {
     "name": "stdout",
     "output_type": "stream",
     "text": [
      "['GLPK_CMD', 'PYGLPK', 'CPLEX_CMD', 'CPLEX_PY', 'GUROBI', 'GUROBI_CMD', 'MOSEK', 'XPRESS', 'XPRESS', 'XPRESS_PY', 'PULP_CBC_CMD', 'COIN_CMD', 'COINMP_DLL', 'CHOCO_CMD', 'MIPCL_CMD', 'SCIP_CMD', 'HiGHS_CMD']\n",
      "['GLPK_CMD', 'COIN_CMD', 'SCIP_CMD', 'HiGHS_CMD']\n"
     ]
    }
   ],
   "source": [
    "import pulp\n",
    "\n",
    "print(pulp.list_solvers())\n",
    "print(pulp.list_solvers(onlyAvailable=True))"
   ]
  },
  {
   "cell_type": "code",
   "execution_count": null,
   "id": "10bb1dd6-320f-496b-bd27-33a5faafa9ed",
   "metadata": {},
   "outputs": [],
   "source": []
  },
  {
   "cell_type": "markdown",
   "id": "597f8b71",
   "metadata": {},
   "source": [
    "## Pyomo"
   ]
  },
  {
   "cell_type": "code",
   "execution_count": 85,
   "id": "3f6bef74",
   "metadata": {},
   "outputs": [],
   "source": [
    "import sys\n",
    "import numpy as np\n",
    "d = {1:80, 2:270, 3:250, 4:160, 5:180}  # customer demand\n",
    "M = {1:500, 2:500, 3:500}               # factory capacity\n",
    "I = [1,2,3,4,5]                         # Customers\n",
    "J = [1,2,3]                             # Factories\n",
    "cost = {(1,1):4,    (1,2):6,    (1,3):9,\n",
    "     (2,1):5,    (2,2):4,    (2,3):7,\n",
    "     (3,1):6,    (3,2):3,    (3,3):3,\n",
    "     (4,1):8,    (4,2):5,    (4,3):3,\n",
    "     (5,1):10,   (5,2):8,    (5,3):4\n",
    "   }    "
   ]
  },
  {
   "cell_type": "code",
   "execution_count": 86,
   "id": "964dc63c-895b-496f-ba90-f5ae7acebc1b",
   "metadata": {},
   "outputs": [
    {
     "name": "stdout",
     "output_type": "stream",
     "text": [
      "Time taken : 14.8669 ms.\n",
      "Solution is feasible and optimal\n",
      "Objective function value =  3350.0\n",
      "sending quantity       80.0 from factory   1 to customer   1\n",
      "sending quantity      270.0 from factory   2 to customer   2\n",
      "sending quantity      250.0 from factory   3 to customer   3\n",
      "sending quantity      160.0 from factory   3 to customer   4\n",
      "sending quantity      180.0 from factory   3 to customer   5\n"
     ]
    }
   ],
   "source": [
    "from pyomo import environ as pe\n",
    "# ConcreteModel is model where data values supplied at the time of the model definition. As opposite to AbstractModel where data values are supplied in data file\n",
    "model = pe.ConcreteModel()\n",
    "# all iterables are to be converted into Set objects\n",
    "model.d_cust_demand = pe.Set(initialize = d.keys())\n",
    "model.M_fact_capacity = pe.Set(initialize = M.keys())\n",
    "# Parameters\n",
    "# Cartesian product of two sets creates list of tuples [((i1,j1),v1),((i2,j2),v2),...] !!!\n",
    "model.transport_cost = pe.Param(\n",
    "    model.d_cust_demand * model.M_fact_capacity,\n",
    "    initialize = cost,\n",
    "    within = pe.NonNegativeReals)\n",
    "model.cust_demand = pe.Param(model.d_cust_demand, \n",
    "    initialize = d,\n",
    "    within = pe.NonNegativeReals)\n",
    "model.fact_capacity = pe.Param(model.M_fact_capacity, \n",
    "    initialize = M,\n",
    "    within = pe.NonNegativeReals)\n",
    "\n",
    "\n",
    "model.x = pe.Var(\n",
    "    model.d_cust_demand * model.M_fact_capacity,\n",
    "    domain = pe.NonNegativeReals,\n",
    "    bounds = (0, max(d.values())))\n",
    "\n",
    "\n",
    "model.objective = pe.Objective(\n",
    "    expr = pe.summation(model.transport_cost, model.x),\n",
    "    sense = pe.minimize)\n",
    "\n",
    "\n",
    "# Constraints: sum of goods == customer demand\n",
    "def meet_demand(model, customer):\n",
    "    sum_of_goods_from_factories = sum(model.x[customer,factory] for factory in model.M_fact_capacity)\n",
    "    customer_demand = model.cust_demand[customer]\n",
    "    return sum_of_goods_from_factories == customer_demand\n",
    "model.Constraint1 = pe.Constraint(model.d_cust_demand, rule = meet_demand)\n",
    "# Constraints: sum of goods <= factory capacity\n",
    "def meet_capacity(model, factory):\n",
    "    sum_of_goods_for_customers = sum(model.x[customer,factory] for customer in model.d_cust_demand)\n",
    "    factory_capacity = model.fact_capacity[factory]\n",
    "    return sum_of_goods_for_customers <= factory_capacity\n",
    "model.Constraint2 = pe.Constraint(model.M_fact_capacity, rule = meet_demand)\n",
    "\n",
    "\n",
    "solver = pe.SolverFactory(\"glpk\")\n",
    "import time\n",
    "start_time = time.time_ns()\n",
    "solution = solver.solve(model)\n",
    "end_time = time.time_ns()\n",
    "print(f\"Time taken : {(end_time - start_time) / 1e6} ms.\")\n",
    "\n",
    "\n",
    "from pyomo.opt import SolverStatus, TerminationCondition\n",
    "if (solution.solver.status == SolverStatus.ok) and (solution.solver.termination_condition == TerminationCondition.optimal):\n",
    "    print(\"Solution is feasible and optimal\")\n",
    "    print(\"Objective function value = \", model.objective())\n",
    "elif solution.solver.termination_condition == TerminationCondition.infeasible:\n",
    "    print (\"Failed to find solution.\")\n",
    "else:\n",
    "    # something else is wrong\n",
    "    print(str(solution.solver))\n",
    "assignments = model.x.get_values().items()\n",
    "EPS = 1.e-6\n",
    "for (customer,factory),x in sorted(assignments):\n",
    "    if x > EPS:\n",
    "        print(\"sending quantity %10s from factory %3s to customer %3s\" % (x, factory, customer))"
   ]
  },
  {
   "cell_type": "code",
   "execution_count": null,
   "id": "675c4f5a-121c-4180-90f0-8fb884a49350",
   "metadata": {},
   "outputs": [
    {
     "name": "stdout",
     "output_type": "stream",
     "text": [
      "ERROR: Solver (cbc) returned non-zero return code (-11)\n"
     ]
    },
    {
     "ename": "ApplicationError",
     "evalue": "Solver (cbc) did not exit normally",
     "output_type": "error",
     "traceback": [
      "\u001b[0;31m---------------------------------------------------------------------------\u001b[0m",
      "\u001b[0;31mApplicationError\u001b[0m                          Traceback (most recent call last)",
      "\u001b[0;32m<ipython-input-87-019e61095ed5>\u001b[0m in \u001b[0;36m<module>\u001b[0;34m\u001b[0m\n\u001b[1;32m      2\u001b[0m \u001b[0;32mimport\u001b[0m \u001b[0mtime\u001b[0m\u001b[0;34m\u001b[0m\u001b[0;34m\u001b[0m\u001b[0m\n\u001b[1;32m      3\u001b[0m \u001b[0mstart_time\u001b[0m \u001b[0;34m=\u001b[0m \u001b[0mtime\u001b[0m\u001b[0;34m.\u001b[0m\u001b[0mtime_ns\u001b[0m\u001b[0;34m(\u001b[0m\u001b[0;34m)\u001b[0m\u001b[0;34m\u001b[0m\u001b[0;34m\u001b[0m\u001b[0m\n\u001b[0;32m----> 4\u001b[0;31m \u001b[0msolution\u001b[0m \u001b[0;34m=\u001b[0m \u001b[0msolver\u001b[0m\u001b[0;34m.\u001b[0m\u001b[0msolve\u001b[0m\u001b[0;34m(\u001b[0m\u001b[0mmodel\u001b[0m\u001b[0;34m)\u001b[0m\u001b[0;34m\u001b[0m\u001b[0;34m\u001b[0m\u001b[0m\n\u001b[0m\u001b[1;32m      5\u001b[0m \u001b[0mend_time\u001b[0m \u001b[0;34m=\u001b[0m \u001b[0mtime\u001b[0m\u001b[0;34m.\u001b[0m\u001b[0mtime_ns\u001b[0m\u001b[0;34m(\u001b[0m\u001b[0;34m)\u001b[0m\u001b[0;34m\u001b[0m\u001b[0;34m\u001b[0m\u001b[0m\n\u001b[1;32m      6\u001b[0m \u001b[0mprint\u001b[0m\u001b[0;34m(\u001b[0m\u001b[0;34mf\"Time taken : {(end_time - start_time) / 1e6} ms.\"\u001b[0m\u001b[0;34m)\u001b[0m\u001b[0;34m\u001b[0m\u001b[0;34m\u001b[0m\u001b[0m\n",
      "\u001b[0;32m~/mambaforge/envs/jugglyng/lib/python3.9/site-packages/pyomo/opt/base/solvers.py\u001b[0m in \u001b[0;36msolve\u001b[0;34m(self, *args, **kwds)\u001b[0m\n\u001b[1;32m    625\u001b[0m                 \u001b[0;32melif\u001b[0m \u001b[0mhasattr\u001b[0m\u001b[0;34m(\u001b[0m\u001b[0m_status\u001b[0m\u001b[0;34m,\u001b[0m \u001b[0;34m'log'\u001b[0m\u001b[0;34m)\u001b[0m \u001b[0;32mand\u001b[0m \u001b[0m_status\u001b[0m\u001b[0;34m.\u001b[0m\u001b[0mlog\u001b[0m\u001b[0;34m:\u001b[0m\u001b[0;34m\u001b[0m\u001b[0;34m\u001b[0m\u001b[0m\n\u001b[1;32m    626\u001b[0m                     \u001b[0mlogger\u001b[0m\u001b[0;34m.\u001b[0m\u001b[0merror\u001b[0m\u001b[0;34m(\u001b[0m\u001b[0;34m\"Solver log:\\n\"\u001b[0m \u001b[0;34m+\u001b[0m \u001b[0mstr\u001b[0m\u001b[0;34m(\u001b[0m\u001b[0m_status\u001b[0m\u001b[0;34m.\u001b[0m\u001b[0mlog\u001b[0m\u001b[0;34m)\u001b[0m\u001b[0;34m)\u001b[0m\u001b[0;34m\u001b[0m\u001b[0;34m\u001b[0m\u001b[0m\n\u001b[0;32m--> 627\u001b[0;31m                 \u001b[0;32mraise\u001b[0m \u001b[0mApplicationError\u001b[0m\u001b[0;34m(\u001b[0m\u001b[0;34m\"Solver (%s) did not exit normally\"\u001b[0m \u001b[0;34m%\u001b[0m \u001b[0mself\u001b[0m\u001b[0;34m.\u001b[0m\u001b[0mname\u001b[0m\u001b[0;34m)\u001b[0m\u001b[0;34m\u001b[0m\u001b[0;34m\u001b[0m\u001b[0m\n\u001b[0m\u001b[1;32m    628\u001b[0m             \u001b[0msolve_completion_time\u001b[0m \u001b[0;34m=\u001b[0m \u001b[0mtime\u001b[0m\u001b[0;34m.\u001b[0m\u001b[0mtime\u001b[0m\u001b[0;34m(\u001b[0m\u001b[0;34m)\u001b[0m\u001b[0;34m\u001b[0m\u001b[0;34m\u001b[0m\u001b[0m\n\u001b[1;32m    629\u001b[0m             \u001b[0;32mif\u001b[0m \u001b[0mself\u001b[0m\u001b[0;34m.\u001b[0m\u001b[0m_report_timing\u001b[0m\u001b[0;34m:\u001b[0m\u001b[0;34m\u001b[0m\u001b[0;34m\u001b[0m\u001b[0m\n",
      "\u001b[0;31mApplicationError\u001b[0m: Solver (cbc) did not exit normally"
     ]
    }
   ],
   "source": [
    "solver = pe.SolverFactory(\"cbc\")\n",
    "import time\n",
    "start_time = time.time_ns()\n",
    "solution = solver.solve(model)\n",
    "end_time = time.time_ns()\n",
    "print(f\"Time taken : {(end_time - start_time) / 1e6} ms.\")\n",
    "\n",
    "\n",
    "from pyomo.opt import SolverStatus, TerminationCondition\n",
    "if (solution.solver.status == SolverStatus.ok) and (solution.solver.termination_condition == TerminationCondition.optimal):\n",
    "    print(\"Solution is feasible and optimal\")\n",
    "    print(\"Objective function value = \", model.objective())\n",
    "elif solution.solver.termination_condition == TerminationCondition.infeasible:\n",
    "    print (\"Failed to find solution.\")\n",
    "else:\n",
    "    # something else is wrong\n",
    "    print(str(solution.solver))\n",
    "assignments = model.x.get_values().items()\n",
    "EPS = 1.e-6\n",
    "for (customer,factory),x in sorted(assignments):\n",
    "    if x > EPS:\n",
    "        print(\"sending quantity %10s from factory %3s to customer %3s\" % (x, factory, customer))"
   ]
  },
  {
   "cell_type": "code",
   "execution_count": 89,
   "id": "83a96e60-828b-44b3-84dd-cc52e24bb011",
   "metadata": {},
   "outputs": [
    {
     "name": "stdout",
     "output_type": "stream",
     "text": [
      "WARNING: The gurobipy module (an optional Pyomo dependency) failed to import:\n",
      "ModuleNotFoundError: No module named 'gurobipy'\n",
      "WARNING: No solver option specified for ASL solver interface\n",
      "WARNING: No solver option specified for ASL solver interface\n",
      "WARNING: No solver specified for direct python solver interface\n",
      "WARNING: The xpress module (an optional Pyomo dependency) failed to import:\n",
      "ModuleNotFoundError: No module named 'xpress'\n",
      "WARNING: The gurobipy module (an optional Pyomo dependency) failed to import:\n",
      "ModuleNotFoundError: No module named 'gurobipy'\n",
      "WARNING: The xpress module (an optional Pyomo dependency) failed to import:\n",
      "ModuleNotFoundError: No module named 'xpress'\n",
      "WARNING: The xpress module (an optional Pyomo dependency) failed to import:\n",
      "ModuleNotFoundError: No module named 'xpress'\n",
      "WARNING: Could not locate the 'pathampl' executable, which is required for\n",
      "solver path\n",
      "WARNING: Could not locate the 'gjh' executable, which is required for solver\n",
      "gjh\n"
     ]
    }
   ],
   "source": [
    "import pyomo.environ as pyo\n",
    "from itertools import compress\n",
    "\n",
    "pyomo_solvers_list = pyo.SolverFactory.__dict__['_cls'].keys()\n",
    "solvers_filter = []\n",
    "for s in pyomo_solvers_list:\n",
    "    try:\n",
    "        solvers_filter.append(pyo.SolverFactory(s).available())\n",
    "    except:\n",
    "        solvers_filter.append(False)\n",
    "pyomo_solvers_list = list(compress(pyomo_solvers_list,solvers_filter))\n"
   ]
  },
  {
   "cell_type": "markdown",
   "id": "c4ad30fe-fba4-4156-b0b9-2786b671bdc6",
   "metadata": {
    "tags": []
   },
   "source": [
    "### Résultats des test :\n",
    "\n",
    "| Model | Toy Example |\n",
    "|---|---| \n",
    "|Or-tools(inmodel) | 20 ms |\n",
    "|Or-tools(python) | 4 ms |\n",
    "|Or-tools(gurobi, inmodel) | |\n",
    "|Or-tools(gurobi, python) | |\n",
    "|Pulp(GLPK) | 10 ms |\n",
    "|Pulp(Coin) | |\n",
    "|Pulp(Gurobi) | |\n",
    "|Pyomo(GLPK) | 20 ms |\n",
    "|Pyomo(Coin) | |\n",
    "|Pyomo(Gurobi) | |"
   ]
  },
  {
   "cell_type": "code",
   "execution_count": 1,
   "id": "35c0dd0c-f60e-4d70-a87b-be0f7e1d27c1",
   "metadata": {},
   "outputs": [
    {
     "name": "stdout",
     "output_type": "stream",
     "text": [
      "['GLPK_CMD', 'PYGLPK', 'CPLEX_CMD', 'CPLEX_PY', 'GUROBI', 'GUROBI_CMD', 'MOSEK', 'XPRESS', 'XPRESS', 'XPRESS_PY', 'PULP_CBC_CMD', 'COIN_CMD', 'COINMP_DLL', 'CHOCO_CMD', 'MIPCL_CMD', 'SCIP_CMD', 'HiGHS_CMD']\n",
      "Set parameter WLSAccessID\n",
      "Set parameter WLSSecret\n",
      "Set parameter LicenseID to value 2451486\n",
      "Academic license 2451486 - for non-commercial use only - registered to le___@universite-paris-saclay.fr\n"
     ]
    },
    {
     "name": "stderr",
     "output_type": "stream",
     "text": [
      "/home/leoku/mambaforge/envs/jugglyng/lib/python3.9/site-packages/pulp/apis/gurobi_api.py:170: UserWarning: GUROBI error: Unknown parameter '_test'.\n",
      "  warnings.warn(\"GUROBI error: {}.\".format(e))\n"
     ]
    },
    {
     "name": "stdout",
     "output_type": "stream",
     "text": [
      "['GLPK_CMD', 'GUROBI_CMD', 'COIN_CMD', 'SCIP_CMD', 'HiGHS_CMD']\n"
     ]
    }
   ],
   "source": [
    "import pulp\n",
    "import time\n",
    "var, prob = pulp.LpProblem.fromMPS(\"MILP_problems/binkar10_1.mps\")\n",
    "print(pulp.list_solvers())\n",
    "print(pulp.list_solvers(onlyAvailable=True))"
   ]
  },
  {
   "cell_type": "code",
   "execution_count": 8,
   "id": "fe1da744-74a4-4bc3-81e1-99e29b6a8b24",
   "metadata": {},
   "outputs": [
    {
     "data": {
      "text/plain": [
       "{(1, 2): 3}"
      ]
     },
     "execution_count": 8,
     "metadata": {},
     "output_type": "execute_result"
    }
   ],
   "source": [
    "a = dict()\n",
    "a[(1, 2)] = 3\n",
    "a"
   ]
  },
  {
   "cell_type": "code",
   "execution_count": 6,
   "id": "b0091d9a-6696-42c0-8c47-3e2ccecff074",
   "metadata": {},
   "outputs": [
    {
     "name": "stdout",
     "output_type": "stream",
     "text": [
      "\n",
      "Test avec GUROBI_CMD\n",
      "Time taken : 4015.890294 ms.\n",
      "Solution is optimal : Optimal\n",
      "\n",
      "Test avec SCIP_CMD\n"
     ]
    },
    {
     "ename": "KeyboardInterrupt",
     "evalue": "",
     "output_type": "error",
     "traceback": [
      "\u001b[0;31m---------------------------------------------------------------------------\u001b[0m",
      "\u001b[0;31mKeyboardInterrupt\u001b[0m                         Traceback (most recent call last)",
      "\u001b[0;32m<ipython-input-6-19c4df626b65>\u001b[0m in \u001b[0;36m<module>\u001b[0;34m\u001b[0m\n\u001b[1;32m      3\u001b[0m     \u001b[0msolver\u001b[0m \u001b[0;34m=\u001b[0m \u001b[0mpulp\u001b[0m\u001b[0;34m.\u001b[0m\u001b[0mget_solver\u001b[0m\u001b[0;34m(\u001b[0m\u001b[0msolver\u001b[0m\u001b[0;34m)\u001b[0m\u001b[0;34m\u001b[0m\u001b[0;34m\u001b[0m\u001b[0m\n\u001b[1;32m      4\u001b[0m     \u001b[0mstart_time\u001b[0m \u001b[0;34m=\u001b[0m \u001b[0mtime\u001b[0m\u001b[0;34m.\u001b[0m\u001b[0mtime_ns\u001b[0m\u001b[0;34m(\u001b[0m\u001b[0;34m)\u001b[0m\u001b[0;34m\u001b[0m\u001b[0;34m\u001b[0m\u001b[0m\n\u001b[0;32m----> 5\u001b[0;31m     \u001b[0mresults\u001b[0m \u001b[0;34m=\u001b[0m \u001b[0mprob\u001b[0m\u001b[0;34m.\u001b[0m\u001b[0msolve\u001b[0m\u001b[0;34m(\u001b[0m\u001b[0msolver\u001b[0m\u001b[0;34m)\u001b[0m\u001b[0;34m\u001b[0m\u001b[0;34m\u001b[0m\u001b[0m\n\u001b[0m\u001b[1;32m      6\u001b[0m     \u001b[0mend_time\u001b[0m \u001b[0;34m=\u001b[0m \u001b[0mtime\u001b[0m\u001b[0;34m.\u001b[0m\u001b[0mtime_ns\u001b[0m\u001b[0;34m(\u001b[0m\u001b[0;34m)\u001b[0m\u001b[0;34m\u001b[0m\u001b[0;34m\u001b[0m\u001b[0m\n\u001b[1;32m      7\u001b[0m     \u001b[0mprint\u001b[0m\u001b[0;34m(\u001b[0m\u001b[0;34mf\"Time taken : {(end_time - start_time) / 1e6} ms.\"\u001b[0m\u001b[0;34m)\u001b[0m\u001b[0;34m\u001b[0m\u001b[0;34m\u001b[0m\u001b[0m\n",
      "\u001b[0;32m~/mambaforge/envs/jugglyng/lib/python3.9/site-packages/pulp/pulp.py\u001b[0m in \u001b[0;36msolve\u001b[0;34m(self, solver, **kwargs)\u001b[0m\n\u001b[1;32m   1911\u001b[0m         \u001b[0;31m# time it\u001b[0m\u001b[0;34m\u001b[0m\u001b[0;34m\u001b[0m\u001b[0m\n\u001b[1;32m   1912\u001b[0m         \u001b[0mself\u001b[0m\u001b[0;34m.\u001b[0m\u001b[0mstartClock\u001b[0m\u001b[0;34m(\u001b[0m\u001b[0;34m)\u001b[0m\u001b[0;34m\u001b[0m\u001b[0;34m\u001b[0m\u001b[0m\n\u001b[0;32m-> 1913\u001b[0;31m         \u001b[0mstatus\u001b[0m \u001b[0;34m=\u001b[0m \u001b[0msolver\u001b[0m\u001b[0;34m.\u001b[0m\u001b[0mactualSolve\u001b[0m\u001b[0;34m(\u001b[0m\u001b[0mself\u001b[0m\u001b[0;34m,\u001b[0m \u001b[0;34m**\u001b[0m\u001b[0mkwargs\u001b[0m\u001b[0;34m)\u001b[0m\u001b[0;34m\u001b[0m\u001b[0;34m\u001b[0m\u001b[0m\n\u001b[0m\u001b[1;32m   1914\u001b[0m         \u001b[0mself\u001b[0m\u001b[0;34m.\u001b[0m\u001b[0mstopClock\u001b[0m\u001b[0;34m(\u001b[0m\u001b[0;34m)\u001b[0m\u001b[0;34m\u001b[0m\u001b[0;34m\u001b[0m\u001b[0m\n\u001b[1;32m   1915\u001b[0m         \u001b[0mself\u001b[0m\u001b[0;34m.\u001b[0m\u001b[0mrestoreObjective\u001b[0m\u001b[0;34m(\u001b[0m\u001b[0mwasNone\u001b[0m\u001b[0;34m,\u001b[0m \u001b[0mdummyVar\u001b[0m\u001b[0;34m)\u001b[0m\u001b[0;34m\u001b[0m\u001b[0;34m\u001b[0m\u001b[0m\n",
      "\u001b[0;32m~/mambaforge/envs/jugglyng/lib/python3.9/site-packages/pulp/apis/scip_api.py\u001b[0m in \u001b[0;36mactualSolve\u001b[0;34m(self, lp)\u001b[0m\n\u001b[1;32m    132\u001b[0m \u001b[0;34m\u001b[0m\u001b[0m\n\u001b[1;32m    133\u001b[0m         \u001b[0mself\u001b[0m\u001b[0;34m.\u001b[0m\u001b[0msolution_time\u001b[0m \u001b[0;34m=\u001b[0m \u001b[0;34m-\u001b[0m\u001b[0mclock\u001b[0m\u001b[0;34m(\u001b[0m\u001b[0;34m)\u001b[0m\u001b[0;34m\u001b[0m\u001b[0;34m\u001b[0m\u001b[0m\n\u001b[0;32m--> 134\u001b[0;31m         \u001b[0msubprocess\u001b[0m\u001b[0;34m.\u001b[0m\u001b[0mcheck_call\u001b[0m\u001b[0;34m(\u001b[0m\u001b[0mproc\u001b[0m\u001b[0;34m,\u001b[0m \u001b[0mstdout\u001b[0m\u001b[0;34m=\u001b[0m\u001b[0mstdout\u001b[0m\u001b[0;34m,\u001b[0m \u001b[0mstderr\u001b[0m\u001b[0;34m=\u001b[0m\u001b[0mstderr\u001b[0m\u001b[0;34m)\u001b[0m\u001b[0;34m\u001b[0m\u001b[0;34m\u001b[0m\u001b[0m\n\u001b[0m\u001b[1;32m    135\u001b[0m         \u001b[0mself\u001b[0m\u001b[0;34m.\u001b[0m\u001b[0msolution_time\u001b[0m \u001b[0;34m+=\u001b[0m \u001b[0mclock\u001b[0m\u001b[0;34m(\u001b[0m\u001b[0;34m)\u001b[0m\u001b[0;34m\u001b[0m\u001b[0;34m\u001b[0m\u001b[0m\n\u001b[1;32m    136\u001b[0m \u001b[0;34m\u001b[0m\u001b[0m\n",
      "\u001b[0;32m~/mambaforge/envs/jugglyng/lib/python3.9/subprocess.py\u001b[0m in \u001b[0;36mcheck_call\u001b[0;34m(*popenargs, **kwargs)\u001b[0m\n\u001b[1;32m    366\u001b[0m     \u001b[0mcheck_call\u001b[0m\u001b[0;34m(\u001b[0m\u001b[0;34m[\u001b[0m\u001b[0;34m\"ls\"\u001b[0m\u001b[0;34m,\u001b[0m \u001b[0;34m\"-l\"\u001b[0m\u001b[0;34m]\u001b[0m\u001b[0;34m)\u001b[0m\u001b[0;34m\u001b[0m\u001b[0;34m\u001b[0m\u001b[0m\n\u001b[1;32m    367\u001b[0m     \"\"\"\n\u001b[0;32m--> 368\u001b[0;31m     \u001b[0mretcode\u001b[0m \u001b[0;34m=\u001b[0m \u001b[0mcall\u001b[0m\u001b[0;34m(\u001b[0m\u001b[0;34m*\u001b[0m\u001b[0mpopenargs\u001b[0m\u001b[0;34m,\u001b[0m \u001b[0;34m**\u001b[0m\u001b[0mkwargs\u001b[0m\u001b[0;34m)\u001b[0m\u001b[0;34m\u001b[0m\u001b[0;34m\u001b[0m\u001b[0m\n\u001b[0m\u001b[1;32m    369\u001b[0m     \u001b[0;32mif\u001b[0m \u001b[0mretcode\u001b[0m\u001b[0;34m:\u001b[0m\u001b[0;34m\u001b[0m\u001b[0;34m\u001b[0m\u001b[0m\n\u001b[1;32m    370\u001b[0m         \u001b[0mcmd\u001b[0m \u001b[0;34m=\u001b[0m \u001b[0mkwargs\u001b[0m\u001b[0;34m.\u001b[0m\u001b[0mget\u001b[0m\u001b[0;34m(\u001b[0m\u001b[0;34m\"args\"\u001b[0m\u001b[0;34m)\u001b[0m\u001b[0;34m\u001b[0m\u001b[0;34m\u001b[0m\u001b[0m\n",
      "\u001b[0;32m~/mambaforge/envs/jugglyng/lib/python3.9/subprocess.py\u001b[0m in \u001b[0;36mcall\u001b[0;34m(timeout, *popenargs, **kwargs)\u001b[0m\n\u001b[1;32m    349\u001b[0m     \u001b[0;32mwith\u001b[0m \u001b[0mPopen\u001b[0m\u001b[0;34m(\u001b[0m\u001b[0;34m*\u001b[0m\u001b[0mpopenargs\u001b[0m\u001b[0;34m,\u001b[0m \u001b[0;34m**\u001b[0m\u001b[0mkwargs\u001b[0m\u001b[0;34m)\u001b[0m \u001b[0;32mas\u001b[0m \u001b[0mp\u001b[0m\u001b[0;34m:\u001b[0m\u001b[0;34m\u001b[0m\u001b[0;34m\u001b[0m\u001b[0m\n\u001b[1;32m    350\u001b[0m         \u001b[0;32mtry\u001b[0m\u001b[0;34m:\u001b[0m\u001b[0;34m\u001b[0m\u001b[0;34m\u001b[0m\u001b[0m\n\u001b[0;32m--> 351\u001b[0;31m             \u001b[0;32mreturn\u001b[0m \u001b[0mp\u001b[0m\u001b[0;34m.\u001b[0m\u001b[0mwait\u001b[0m\u001b[0;34m(\u001b[0m\u001b[0mtimeout\u001b[0m\u001b[0;34m=\u001b[0m\u001b[0mtimeout\u001b[0m\u001b[0;34m)\u001b[0m\u001b[0;34m\u001b[0m\u001b[0;34m\u001b[0m\u001b[0m\n\u001b[0m\u001b[1;32m    352\u001b[0m         \u001b[0;32mexcept\u001b[0m\u001b[0;34m:\u001b[0m  \u001b[0;31m# Including KeyboardInterrupt, wait handled that.\u001b[0m\u001b[0;34m\u001b[0m\u001b[0;34m\u001b[0m\u001b[0m\n\u001b[1;32m    353\u001b[0m             \u001b[0mp\u001b[0m\u001b[0;34m.\u001b[0m\u001b[0mkill\u001b[0m\u001b[0;34m(\u001b[0m\u001b[0;34m)\u001b[0m\u001b[0;34m\u001b[0m\u001b[0;34m\u001b[0m\u001b[0m\n",
      "\u001b[0;32m~/mambaforge/envs/jugglyng/lib/python3.9/subprocess.py\u001b[0m in \u001b[0;36mwait\u001b[0;34m(self, timeout)\u001b[0m\n\u001b[1;32m   1187\u001b[0m             \u001b[0mendtime\u001b[0m \u001b[0;34m=\u001b[0m \u001b[0m_time\u001b[0m\u001b[0;34m(\u001b[0m\u001b[0;34m)\u001b[0m \u001b[0;34m+\u001b[0m \u001b[0mtimeout\u001b[0m\u001b[0;34m\u001b[0m\u001b[0;34m\u001b[0m\u001b[0m\n\u001b[1;32m   1188\u001b[0m         \u001b[0;32mtry\u001b[0m\u001b[0;34m:\u001b[0m\u001b[0;34m\u001b[0m\u001b[0;34m\u001b[0m\u001b[0m\n\u001b[0;32m-> 1189\u001b[0;31m             \u001b[0;32mreturn\u001b[0m \u001b[0mself\u001b[0m\u001b[0;34m.\u001b[0m\u001b[0m_wait\u001b[0m\u001b[0;34m(\u001b[0m\u001b[0mtimeout\u001b[0m\u001b[0;34m=\u001b[0m\u001b[0mtimeout\u001b[0m\u001b[0;34m)\u001b[0m\u001b[0;34m\u001b[0m\u001b[0;34m\u001b[0m\u001b[0m\n\u001b[0m\u001b[1;32m   1190\u001b[0m         \u001b[0;32mexcept\u001b[0m \u001b[0mKeyboardInterrupt\u001b[0m\u001b[0;34m:\u001b[0m\u001b[0;34m\u001b[0m\u001b[0;34m\u001b[0m\u001b[0m\n\u001b[1;32m   1191\u001b[0m             \u001b[0;31m# https://bugs.python.org/issue25942\u001b[0m\u001b[0;34m\u001b[0m\u001b[0;34m\u001b[0m\u001b[0m\n",
      "\u001b[0;32m~/mambaforge/envs/jugglyng/lib/python3.9/subprocess.py\u001b[0m in \u001b[0;36m_wait\u001b[0;34m(self, timeout)\u001b[0m\n\u001b[1;32m   1915\u001b[0m                         \u001b[0;32mif\u001b[0m \u001b[0mself\u001b[0m\u001b[0;34m.\u001b[0m\u001b[0mreturncode\u001b[0m \u001b[0;32mis\u001b[0m \u001b[0;32mnot\u001b[0m \u001b[0;32mNone\u001b[0m\u001b[0;34m:\u001b[0m\u001b[0;34m\u001b[0m\u001b[0;34m\u001b[0m\u001b[0m\n\u001b[1;32m   1916\u001b[0m                             \u001b[0;32mbreak\u001b[0m  \u001b[0;31m# Another thread waited.\u001b[0m\u001b[0;34m\u001b[0m\u001b[0;34m\u001b[0m\u001b[0m\n\u001b[0;32m-> 1917\u001b[0;31m                         \u001b[0;34m(\u001b[0m\u001b[0mpid\u001b[0m\u001b[0;34m,\u001b[0m \u001b[0msts\u001b[0m\u001b[0;34m)\u001b[0m \u001b[0;34m=\u001b[0m \u001b[0mself\u001b[0m\u001b[0;34m.\u001b[0m\u001b[0m_try_wait\u001b[0m\u001b[0;34m(\u001b[0m\u001b[0;36m0\u001b[0m\u001b[0;34m)\u001b[0m\u001b[0;34m\u001b[0m\u001b[0;34m\u001b[0m\u001b[0m\n\u001b[0m\u001b[1;32m   1918\u001b[0m                         \u001b[0;31m# Check the pid and loop as waitpid has been known to\u001b[0m\u001b[0;34m\u001b[0m\u001b[0;34m\u001b[0m\u001b[0m\n\u001b[1;32m   1919\u001b[0m                         \u001b[0;31m# return 0 even without WNOHANG in odd situations.\u001b[0m\u001b[0;34m\u001b[0m\u001b[0;34m\u001b[0m\u001b[0m\n",
      "\u001b[0;32m~/mambaforge/envs/jugglyng/lib/python3.9/subprocess.py\u001b[0m in \u001b[0;36m_try_wait\u001b[0;34m(self, wait_flags)\u001b[0m\n\u001b[1;32m   1873\u001b[0m             \u001b[0;34m\"\"\"All callers to this function MUST hold self._waitpid_lock.\"\"\"\u001b[0m\u001b[0;34m\u001b[0m\u001b[0;34m\u001b[0m\u001b[0m\n\u001b[1;32m   1874\u001b[0m             \u001b[0;32mtry\u001b[0m\u001b[0;34m:\u001b[0m\u001b[0;34m\u001b[0m\u001b[0;34m\u001b[0m\u001b[0m\n\u001b[0;32m-> 1875\u001b[0;31m                 \u001b[0;34m(\u001b[0m\u001b[0mpid\u001b[0m\u001b[0;34m,\u001b[0m \u001b[0msts\u001b[0m\u001b[0;34m)\u001b[0m \u001b[0;34m=\u001b[0m \u001b[0mos\u001b[0m\u001b[0;34m.\u001b[0m\u001b[0mwaitpid\u001b[0m\u001b[0;34m(\u001b[0m\u001b[0mself\u001b[0m\u001b[0;34m.\u001b[0m\u001b[0mpid\u001b[0m\u001b[0;34m,\u001b[0m \u001b[0mwait_flags\u001b[0m\u001b[0;34m)\u001b[0m\u001b[0;34m\u001b[0m\u001b[0;34m\u001b[0m\u001b[0m\n\u001b[0m\u001b[1;32m   1876\u001b[0m             \u001b[0;32mexcept\u001b[0m \u001b[0mChildProcessError\u001b[0m\u001b[0;34m:\u001b[0m\u001b[0;34m\u001b[0m\u001b[0;34m\u001b[0m\u001b[0m\n\u001b[1;32m   1877\u001b[0m                 \u001b[0;31m# This happens if SIGCLD is set to be ignored or waiting\u001b[0m\u001b[0;34m\u001b[0m\u001b[0;34m\u001b[0m\u001b[0m\n",
      "\u001b[0;31mKeyboardInterrupt\u001b[0m: "
     ]
    }
   ],
   "source": [
    "for solver in ['GUROBI_CMD', 'SCIP_CMD', 'HiGHS_CMD','GLPK_CMD']:\n",
    "    print(f\"\\nTest avec {solver}\") \n",
    "    solver = pulp.get_solver(solver)\n",
    "    start_time = time.time_ns()\n",
    "    results = prob.solve(solver)\n",
    "    end_time = time.time_ns()\n",
    "    print(f\"Time taken : {(end_time - start_time) / 1e6} ms.\")\n",
    "    print(f\"Solution is optimal : {pulp.LpStatus[prob.status]}\")"
   ]
  },
  {
   "cell_type": "code",
   "execution_count": null,
   "id": "c9af27cc-c2ab-46c8-949a-7c8b83585570",
   "metadata": {},
   "outputs": [],
   "source": [
    "import pulp\n",
    "p = pulp.LpProblem(name = \"ExactCover\", sense = pulp.const.LpMaximize)"
   ]
  }
 ],
 "metadata": {
  "kernelspec": {
   "display_name": "Python 3 (ipykernel)",
   "language": "python",
   "name": "python3"
  },
  "language_info": {
   "codemirror_mode": {
    "name": "ipython",
    "version": 3
   },
   "file_extension": ".py",
   "mimetype": "text/x-python",
   "name": "python",
   "nbconvert_exporter": "python",
   "pygments_lexer": "ipython3",
   "version": "3.12.1"
  }
 },
 "nbformat": 4,
 "nbformat_minor": 5
}
