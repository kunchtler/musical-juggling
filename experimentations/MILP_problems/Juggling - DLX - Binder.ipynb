{
 "cells": [
  {
   "cell_type": "code",
   "execution_count": 1,
   "id": "76ff3071-34b6-4cd8-b716-12c40bd67ba0",
   "metadata": {
    "tags": [
     "remove-input",
     "hide-input"
    ]
   },
   "outputs": [
    {
     "name": "stderr",
     "output_type": "stream",
     "text": [
      "/home/leoku/mambaforge/envs/jugglyng/lib/python3.9/site-packages/traittypes/traittypes.py:20: DeprecationWarning: \n",
      "            Sentinel is not a public part of the traitlets API.\n",
      "            It was published by mistake, and may be removed in the future.\n",
      "            \n",
      "  Empty = Sentinel('Empty', 'traittypes',\n",
      "/home/leoku/stage/musical-juggling/src/musicaljuggling/DLX/dlxm.py:70: RuntimeWarning: class \"DLX_M::AbstrItem\" has no virtual destructor\n",
      "  class ConcItem(_AbstrItem):\n"
     ]
    },
    {
     "data": {
      "application/vnd.jupyter.widget-view+json": {
       "model_id": "ecf78252a480490bafe7b3c4a5f0ba67",
       "version_major": 2,
       "version_minor": 0
      },
      "text/plain": [
       "Output()"
      ]
     },
     "metadata": {},
     "output_type": "display_data"
    }
   ],
   "source": [
    "from musicaljuggling.simulator.interface import *\n",
    "display(display_interface())"
   ]
  },
  {
   "cell_type": "code",
   "execution_count": 2,
   "id": "0c7705d9-e56c-40df-b9ef-7048615f29b5",
   "metadata": {},
   "outputs": [],
   "source": [
    "import ipytone"
   ]
  },
  {
   "cell_type": "code",
   "execution_count": 4,
   "id": "aea92792",
   "metadata": {},
   "outputs": [],
   "source": [
    "synth = ipytone.PolySynth().to_destination()"
   ]
  },
  {
   "cell_type": "code",
   "execution_count": 6,
   "id": "bd45a003",
   "metadata": {},
   "outputs": [
    {
     "data": {
      "text/plain": [
       "PolySynth()"
      ]
     },
     "metadata": {},
     "output_type": "display_data"
    }
   ],
   "source": [
    "synth.trigger_attack_release(\"C4\", 1)"
   ]
  },
  {
   "cell_type": "code",
   "execution_count": 2,
   "id": "25f9c728",
   "metadata": {},
   "outputs": [],
   "source": [
    "from musicaljuggling.simulator.audio import Audio"
   ]
  },
  {
   "cell_type": "code",
   "execution_count": 3,
   "id": "dd9a768f",
   "metadata": {},
   "outputs": [],
   "source": [
    "a = Audio()"
   ]
  },
  {
   "cell_type": "code",
   "execution_count": 4,
   "id": "282344df",
   "metadata": {},
   "outputs": [],
   "source": [
    "a.play(\"C4\")"
   ]
  },
  {
   "cell_type": "code",
   "execution_count": 2,
   "id": "81b070a0",
   "metadata": {},
   "outputs": [],
   "source": [
    "import musicaljuggling.simulator.audio"
   ]
  },
  {
   "cell_type": "code",
   "execution_count": null,
   "id": "edca89c8",
   "metadata": {},
   "outputs": [],
   "source": [
    "musicaljuggling.simulator.audio."
   ]
  }
 ],
 "metadata": {
  "kernelspec": {
   "display_name": "Python 3 (ipykernel)",
   "language": "python",
   "name": "python3"
  },
  "language_info": {
   "codemirror_mode": {
    "name": "ipython",
    "version": 3
   },
   "file_extension": ".py",
   "mimetype": "text/x-python",
   "name": "python",
   "nbconvert_exporter": "python",
   "pygments_lexer": "ipython3",
   "version": "3.12.1"
  }
 },
 "nbformat": 4,
 "nbformat_minor": 5
}
