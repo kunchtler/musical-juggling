{
 "cells": [
  {
   "cell_type": "code",
   "execution_count": 4,
   "id": "6c9947f7-065f-41d9-90ac-de823feaadc4",
   "metadata": {},
   "outputs": [
    {
     "name": "stdout",
     "output_type": "stream",
     "text": [
      "The autoreload extension is already loaded. To reload it, use:\n",
      "  %reload_ext autoreload\n"
     ]
    }
   ],
   "source": [
    "%load_ext autoreload\n",
    "%autoreload 2"
   ]
  },
  {
   "cell_type": "code",
   "execution_count": 5,
   "id": "96aa75c8-f79f-4eb6-aa4f-5d9f5a919be7",
   "metadata": {},
   "outputs": [],
   "source": [
    "import musicaljuggling.automata.musical_siteswap2 as msbackwards\n",
    "import musicaljuggling.automata.musical_siteswap as msforwards\n",
    "from time import time"
   ]
  },
  {
   "cell_type": "code",
   "execution_count": 6,
   "id": "0c10c36c-2b5d-4d93-87b9-afba4747b3af",
   "metadata": {},
   "outputs": [],
   "source": [
    "beau_danube = [\n",
    "    \"C\", \"E\", \"G\",\n",
    "    \"G\", \"\", \"\",\n",
    "    \"\", \"\", \"\",\n",
    "    \"\", \"\", \"C\",\n",
    "    \"C\", \"E\", \"G\",\n",
    "    \"G\", \"\", \"\",\n",
    "    \"\", \"\", \"\",\n",
    "    \"\", \"\", \"D\",\n",
    "    \"D\", \"F\", \"A'\",\n",
    "    \"A'\", \"\", \"\",\n",
    "    \"\", \"\", \"\",\n",
    "    \"\", \"\", \"D\",\n",
    "    \"D\", \"F\", \"A'\",\n",
    "    \"A'\", \"\", \"\",\n",
    "    \"\", \"\", \"\",\n",
    "    \"\", \"\", \"C\",\n",
    "    \"C\", \"E\", \"G\",\n",
    "    \"C'\", \"\", \"\",\n",
    "    \"\", \"\", \"\",\n",
    "    \"\", \"\", \"C\",\n",
    "    \"C\", \"E\", \"G\",\n",
    "    \"C'\", \"\", \"\",\n",
    "    \"\", \"\", \"\",\n",
    "    \"\", \"\", \"D\",\n",
    "    \"D\", \"F\", \"A'\",\n",
    "    \"A'\"\n",
    "]"
   ]
  },
  {
   "cell_type": "code",
   "execution_count": 9,
   "id": "b5e73844-d3ed-4ad5-a299-2c1306650cd3",
   "metadata": {},
   "outputs": [
    {
     "name": "stdout",
     "output_type": "stream",
     "text": [
      "CPU times: user 5.38 s, sys: 9.72 ms, total: 5.39 s\n",
      "Wall time: 5.4 s\n"
     ]
    }
   ],
   "source": [
    "%%time\n",
    "forward = msforwards.MusicalAutomaton(beau_danube, 5, autobuild=True)"
   ]
  },
  {
   "cell_type": "code",
   "execution_count": 12,
   "id": "dd0b6945-a477-4585-b916-3cf4acebdec7",
   "metadata": {},
   "outputs": [
    {
     "name": "stdout",
     "output_type": "stream",
     "text": [
      "CPU times: user 388 ms, sys: 0 ns, total: 388 ms\n",
      "Wall time: 388 ms\n"
     ]
    }
   ],
   "source": [
    "%%time\n",
    "backward = msbackwards.MusicalAutomaton(beau_danube, 5, autobuild=True)"
   ]
  },
  {
   "cell_type": "code",
   "execution_count": 13,
   "id": "d53b6c2a-1108-4295-94a1-0fc2c1322820",
   "metadata": {},
   "outputs": [],
   "source": [
    "forward.draw(path=\"beau_danube_forwards.svg\")\n",
    "backward.draw(path=\"beau_danube_backwards.svg\")"
   ]
  },
  {
   "cell_type": "code",
   "execution_count": null,
   "id": "795867c9-d90d-43f8-959b-cead93f52c38",
   "metadata": {},
   "outputs": [],
   "source": []
  }
 ],
 "metadata": {
  "kernelspec": {
   "display_name": "Python 3 (ipykernel)",
   "language": "python",
   "name": "python3"
  },
  "language_info": {
   "codemirror_mode": {
    "name": "ipython",
    "version": 3
   },
   "file_extension": ".py",
   "mimetype": "text/x-python",
   "name": "python",
   "nbconvert_exporter": "python",
   "pygments_lexer": "ipython3",
   "version": "3.12.1"
  }
 },
 "nbformat": 4,
 "nbformat_minor": 5
}
