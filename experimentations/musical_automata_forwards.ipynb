{
 "cells": [
  {
   "cell_type": "code",
   "execution_count": 1,
   "id": "c23547db-aefb-4e7a-b65b-c80ff4b948a1",
   "metadata": {},
   "outputs": [],
   "source": [
    "%load_ext autoreload\n",
    "%autoreload 2"
   ]
  },
  {
   "cell_type": "code",
   "execution_count": 2,
   "id": "9b073097-6ebc-4836-b4fd-84c7808d822a",
   "metadata": {},
   "outputs": [],
   "source": [
    "import musicaljuggling.automata.musical_siteswap_forwards as ms\n",
    "import networkx as nx"
   ]
  },
  {
   "cell_type": "code",
   "execution_count": 3,
   "id": "c2d18292-1f7c-4310-89a4-6f992df52dd6",
   "metadata": {},
   "outputs": [],
   "source": [
    "au_clair_de_la_lune = [\"C\", \"C\", \"C\", \"D\", \"E\", \"\", \"D\", \"\", \"C\", \"E\", \"D\", \"D\", \"C\"]\n",
    "beau_danube = [\n",
    "    \"C\", \"E\", \"G\",\n",
    "    \"G\", \"\", \"\",\n",
    "    \"\", \"\", \"\",\n",
    "    \"\", \"\", \"C\",\n",
    "    \"C\", \"E\", \"G\",\n",
    "    \"G\", \"\", \"\",\n",
    "    \"\", \"\", \"\",\n",
    "    \"\", \"\", \"D\",\n",
    "    \"D\", \"F\", \"A'\",\n",
    "    \"A'\", \"\", \"\",\n",
    "    \"\", \"\", \"\",\n",
    "    \"\", \"\", \"D\",\n",
    "    \"D\", \"F\", \"A'\",\n",
    "    \"A'\", \"\", \"\",\n",
    "    \"\", \"\", \"\",\n",
    "    \"\", \"\", \"C\",\n",
    "    \"C\", \"E\", \"G\",\n",
    "    \"C'\", \"\", \"\",\n",
    "    \"\", \"\", \"\",\n",
    "    \"\", \"\", \"C\",\n",
    "    \"C\", \"E\", \"G\",\n",
    "    \"C'\", \"\", \"\",\n",
    "    \"\", \"\", \"\",\n",
    "    \"\", \"\", \"D\",\n",
    "    \"D\", \"F\", \"A'\",\n",
    "    \"A'\", \"\", \"\",\n",
    "]\n",
    "music = [\"C\", \"D\", \"D\", \"D\", \"C\"]\n",
    "\n",
    "test = ms.MusicalAutomaton(beau_danube, 5, autobuild=False)\n",
    "aut = test.automaton"
   ]
  },
  {
   "cell_type": "code",
   "execution_count": 4,
   "id": "bd1bdea6-1d78-41a2-88e4-e194c1f32ab1",
   "metadata": {},
   "outputs": [
    {
     "data": {
      "text/plain": [
       "'for state in test.initial_states:\\n    print(state)'"
      ]
     },
     "execution_count": 4,
     "metadata": {},
     "output_type": "execute_result"
    }
   ],
   "source": [
    "test.build_initial_states()\n",
    "'''for state in test.initial_states:\n",
    "    print(state)'''"
   ]
  },
  {
   "cell_type": "code",
   "execution_count": 8,
   "id": "5ee793c7-8da2-418d-83b9-4633c34e5f52",
   "metadata": {
    "scrolled": true
   },
   "outputs": [
    {
     "data": {
      "text/plain": [
       "'print(\"Nodes :\")\\nfor node in aut.nodes:\\n    print(node)\\nprint(\"\\nEdges :\")\\nfor edge in aut.edges:\\n    print(edge[0])\\n    print(edge[1])\\n    print(\"---\")'"
      ]
     },
     "execution_count": 8,
     "metadata": {},
     "output_type": "execute_result"
    }
   ],
   "source": [
    "test.build_transitions()\n",
    "'''print(\"Nodes :\")\n",
    "for node in aut.nodes:\n",
    "    print(node)\n",
    "print(\"\\nEdges :\")\n",
    "for edge in aut.edges:\n",
    "    print(edge[0])\n",
    "    print(edge[1])\n",
    "    print(\"---\")'''"
   ]
  },
  {
   "cell_type": "code",
   "execution_count": 6,
   "id": "b7faedc1-779f-4a31-b584-839be4aa2714",
   "metadata": {
    "scrolled": true
   },
   "outputs": [],
   "source": [
    "#test.draw(notebook=False)"
   ]
  },
  {
   "cell_type": "code",
   "execution_count": 9,
   "id": "6989aa1c-9c23-4e03-9dc6-68d13ac2c544",
   "metadata": {},
   "outputs": [
    {
     "name": "stdout",
     "output_type": "stream",
     "text": [
      "CGD > EC'FA' | XXXXX | t=77\n",
      "CGD > EC'FA' | XXXXX | t=77\n"
     ]
    }
   ],
   "source": [
    "for node in test.final_states:\n",
    "    print(node)"
   ]
  },
  {
   "cell_type": "code",
   "execution_count": 10,
   "id": "9f47ba6a-a61e-46df-a0de-18c77b2642ca",
   "metadata": {},
   "outputs": [],
   "source": [
    "test.elagate()"
   ]
  },
  {
   "cell_type": "code",
   "execution_count": 11,
   "id": "745d83d1-f58c-4497-862c-26c837bb5aca",
   "metadata": {
    "scrolled": true
   },
   "outputs": [
    {
     "name": "stdout",
     "output_type": "stream",
     "text": [
      "Nodes :\n"
     ]
    },
    {
     "data": {
      "text/plain": [
       "'for node in aut.nodes:\\n    print(node)\\nprint(\"\\nEdges :\")\\nfor edge in aut.edges:\\n    print(edge[0])\\n    print(edge[1])\\n    print(\"---\")'"
      ]
     },
     "execution_count": 11,
     "metadata": {},
     "output_type": "execute_result"
    }
   ],
   "source": [
    "print(\"Nodes :\")\n",
    "'''for node in aut.nodes:\n",
    "    print(node)\n",
    "print(\"\\nEdges :\")\n",
    "for edge in aut.edges:\n",
    "    print(edge[0])\n",
    "    print(edge[1])\n",
    "    print(\"---\")'''"
   ]
  },
  {
   "cell_type": "code",
   "execution_count": 29,
   "id": "7d1a606b-6098-4737-9480-18c1d9358f61",
   "metadata": {},
   "outputs": [],
   "source": [
    "test.draw(path=\"acdll3.svg\", notebook=False)"
   ]
  }
 ],
 "metadata": {
  "jupytext": {
   "formats": "ipynb,md:myst"
  },
  "kernelspec": {
   "display_name": "Python 3 (ipykernel)",
   "language": "python",
   "name": "python3"
  },
  "language_info": {
   "codemirror_mode": {
    "name": "ipython",
    "version": 3
   },
   "file_extension": ".py",
   "mimetype": "text/x-python",
   "name": "python",
   "nbconvert_exporter": "python",
   "pygments_lexer": "ipython3",
   "version": "3.12.1"
  }
 },
 "nbformat": 4,
 "nbformat_minor": 5
}
