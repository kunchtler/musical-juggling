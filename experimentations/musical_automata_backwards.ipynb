{
 "cells": [
  {
   "cell_type": "code",
   "execution_count": 10,
   "id": "6838c327-e72b-4af4-8f34-a6142bdd49e8",
   "metadata": {},
   "outputs": [
    {
     "name": "stdout",
     "output_type": "stream",
     "text": [
      "The autoreload extension is already loaded. To reload it, use:\n",
      "  %reload_ext autoreload\n"
     ]
    }
   ],
   "source": [
    "%load_ext autoreload\n",
    "%autoreload 2"
   ]
  },
  {
   "cell_type": "code",
   "execution_count": 11,
   "id": "57e7e496-b136-4675-9d65-3b289da0b913",
   "metadata": {},
   "outputs": [],
   "source": [
    "import musicaljuggling.automata.musical_siteswap_backwards as ms\n",
    "import networkx as nx"
   ]
  },
  {
   "cell_type": "code",
   "execution_count": 12,
   "id": "f8926ed7-c336-4c76-86b0-b1095173fb6c",
   "metadata": {},
   "outputs": [],
   "source": [
    "au_clair_de_la_lune = [\"C\", \"C\", \"C\", \"D\", \"E\", \"\", \"D\", \"\", \"C\", \"E\", \"D\", \"D\", \"C\"]\n",
    "beau_danube = [\n",
    "    \"C\", \"E\", \"G\",\n",
    "    \"G\", \"\", \"\",\n",
    "    \"\", \"\", \"\",\n",
    "    \"\", \"\", \"C\",\n",
    "    \"C\", \"E\", \"G\",\n",
    "    \"G\", \"\", \"\",\n",
    "    \"\", \"\", \"\",\n",
    "    \"\", \"\", \"D\",\n",
    "    \"D\", \"F\", \"A'\",\n",
    "    \"A'\", \"\", \"\",\n",
    "    \"\", \"\", \"\",\n",
    "    \"\", \"\", \"D\",\n",
    "    \"D\", \"F\", \"A'\",\n",
    "    \"A'\", \"\", \"\",\n",
    "    \"\", \"\", \"\",\n",
    "    \"\", \"\", \"C\",\n",
    "    \"C\", \"E\", \"G\",\n",
    "    \"C'\", \"\", \"\",\n",
    "    \"\", \"\", \"\",\n",
    "    \"\", \"\", \"C\",\n",
    "    \"C\", \"E\", \"G\",\n",
    "    \"C'\", \"\", \"\",\n",
    "    \"\", \"\", \"\",\n",
    "    \"\", \"\", \"D\",\n",
    "    \"D\", \"F\", \"A'\",\n",
    "    \"A'\", \"\", \"\",\n",
    "]\n",
    "music = [\"C\", \"D\", \"D\", \"D\", \"C\"]\n",
    "\n",
    "test = ms.MusicalAutomaton(au_clair_de_la_lune, 6, autobuild=False)\n",
    "aut = test.automaton"
   ]
  },
  {
   "cell_type": "code",
   "execution_count": 13,
   "id": "39c0b2f2-3c66-492c-ac7e-216694d95d63",
   "metadata": {},
   "outputs": [
    {
     "data": {
      "text/plain": [
       "'for state in test.final_states:\\n    print(state)'"
      ]
     },
     "execution_count": 13,
     "metadata": {},
     "output_type": "execute_result"
    }
   ],
   "source": [
    "test.build_final_states()\n",
    "'''for state in test.final_states:\n",
    "    print(state)'''"
   ]
  },
  {
   "cell_type": "code",
   "execution_count": 14,
   "id": "f9234509-95bd-48c0-a6bc-4bdb8fa9d0ee",
   "metadata": {
    "scrolled": true
   },
   "outputs": [
    {
     "data": {
      "text/plain": [
       "'print(\"Nodes :\")\\nfor node in aut.nodes:\\n    print(node)\\nprint(\"\\nEdges :\")\\nfor edge in aut.edges:\\n    print(edge[0])\\n    print(edge[1])\\n    print(\"---\")'"
      ]
     },
     "execution_count": 14,
     "metadata": {},
     "output_type": "execute_result"
    }
   ],
   "source": [
    "test.build_back_transitions()\n",
    "'''print(\"Nodes :\")\n",
    "for node in aut.nodes:\n",
    "    print(node)\n",
    "print(\"\\nEdges :\")\n",
    "for edge in aut.edges:\n",
    "    print(edge[0])\n",
    "    print(edge[1])\n",
    "    print(\"---\")'''"
   ]
  },
  {
   "cell_type": "code",
   "execution_count": 15,
   "id": "0df7eeb0-3ecd-496e-ae65-327ff18bfbbd",
   "metadata": {},
   "outputs": [],
   "source": [
    "test.draw(path=\"test.svg\", notebook=False)"
   ]
  },
  {
   "cell_type": "code",
   "execution_count": 16,
   "id": "d3a7f58b-1d65-4018-a246-ef17e58c34d4",
   "metadata": {},
   "outputs": [
    {
     "name": "stdout",
     "output_type": "stream",
     "text": [
      "X<| X | CXXDEX | t=0\n",
      "X<| E | CXXDXX | t=0\n"
     ]
    }
   ],
   "source": [
    "for node in test.initial_states:\n",
    "    print(node)"
   ]
  },
  {
   "cell_type": "code",
   "execution_count": 17,
   "id": "697bf494-fa55-42db-8eca-8038bd8f40be",
   "metadata": {
    "scrolled": true
   },
   "outputs": [
    {
     "data": {
      "text/plain": [
       "'print(\"Nodes :\")\\nfor node in aut.nodes:\\n    print(node)\\nprint(\"\\nEdges :\")\\nfor edge in aut.edges:\\n    print(edge[0])\\n    print(edge[1])\\n    print(\"---\")'"
      ]
     },
     "execution_count": 17,
     "metadata": {},
     "output_type": "execute_result"
    }
   ],
   "source": [
    "test.elagate()\n",
    "'''print(\"Nodes :\")\n",
    "for node in aut.nodes:\n",
    "    print(node)\n",
    "print(\"\\nEdges :\")\n",
    "for edge in aut.edges:\n",
    "    print(edge[0])\n",
    "    print(edge[1])\n",
    "    print(\"---\")'''"
   ]
  },
  {
   "cell_type": "code",
   "execution_count": 18,
   "id": "9b92e528-4c49-4867-bb30-b16c0f600271",
   "metadata": {},
   "outputs": [],
   "source": [
    "test.draw(path=\"test.svg\", notebook=False)"
   ]
  },
  {
   "cell_type": "code",
   "execution_count": null,
   "id": "66a4385c-565a-48a0-9237-9a8637ce4ce3",
   "metadata": {},
   "outputs": [],
   "source": []
  }
 ],
 "metadata": {
  "jupytext": {
   "formats": "ipynb,md"
  },
  "kernelspec": {
   "display_name": "Python 3 (ipykernel)",
   "language": "python",
   "name": "python3"
  },
  "language_info": {
   "codemirror_mode": {
    "name": "ipython",
    "version": 3
   },
   "file_extension": ".py",
   "mimetype": "text/x-python",
   "name": "python",
   "nbconvert_exporter": "python",
   "pygments_lexer": "ipython3",
   "version": "3.12.1"
  }
 },
 "nbformat": 4,
 "nbformat_minor": 5
}
